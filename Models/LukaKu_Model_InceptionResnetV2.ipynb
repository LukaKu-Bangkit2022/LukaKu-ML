{
  "nbformat": 4,
  "nbformat_minor": 0,
  "metadata": {
    "colab": {
      "name": "LukaKu_Model_InceptionResnetV2.ipynb",
      "provenance": [],
      "collapsed_sections": []
    },
    "kernelspec": {
      "name": "python3",
      "display_name": "Python 3"
    },
    "language_info": {
      "name": "python"
    },
    "accelerator": "GPU"
  },
  "cells": [
    {
      "cell_type": "code",
      "execution_count": 1,
      "metadata": {
        "id": "Sc3bDyHdXTbS",
        "colab": {
          "base_uri": "https://localhost:8080/"
        },
        "outputId": "0b853284-9253-47db-aea3-46a68887752d"
      },
      "outputs": [
        {
          "output_type": "stream",
          "name": "stdout",
          "text": [
            "Sat Jun 11 22:51:50 2022       \n",
            "+-----------------------------------------------------------------------------+\n",
            "| NVIDIA-SMI 460.32.03    Driver Version: 460.32.03    CUDA Version: 11.2     |\n",
            "|-------------------------------+----------------------+----------------------+\n",
            "| GPU  Name        Persistence-M| Bus-Id        Disp.A | Volatile Uncorr. ECC |\n",
            "| Fan  Temp  Perf  Pwr:Usage/Cap|         Memory-Usage | GPU-Util  Compute M. |\n",
            "|                               |                      |               MIG M. |\n",
            "|===============================+======================+======================|\n",
            "|   0  Tesla T4            Off  | 00000000:00:04.0 Off |                    0 |\n",
            "| N/A   33C    P8     9W /  70W |      0MiB / 15109MiB |      0%      Default |\n",
            "|                               |                      |                  N/A |\n",
            "+-------------------------------+----------------------+----------------------+\n",
            "                                                                               \n",
            "+-----------------------------------------------------------------------------+\n",
            "| Processes:                                                                  |\n",
            "|  GPU   GI   CI        PID   Type   Process name                  GPU Memory |\n",
            "|        ID   ID                                                   Usage      |\n",
            "|=============================================================================|\n",
            "|  No running processes found                                                 |\n",
            "+-----------------------------------------------------------------------------+\n"
          ]
        }
      ],
      "source": [
        "!nvidia-smi"
      ]
    },
    {
      "cell_type": "code",
      "source": [
        "from google.colab import drive\n",
        "drive.mount('/content/drive')"
      ],
      "metadata": {
        "colab": {
          "base_uri": "https://localhost:8080/"
        },
        "id": "w5LZLQnzXlKF",
        "outputId": "b9487291-f1a1-4674-e6a0-295c6b621f72"
      },
      "execution_count": 2,
      "outputs": [
        {
          "output_type": "stream",
          "name": "stdout",
          "text": [
            "Mounted at /content/drive\n"
          ]
        }
      ]
    },
    {
      "cell_type": "code",
      "source": [
        "!unzip '/content/drive/MyDrive/Dataset_capstone_final.zip'"
      ],
      "metadata": {
        "id": "hdCfafpYXqo1"
      },
      "execution_count": null,
      "outputs": []
    },
    {
      "cell_type": "code",
      "source": [
        "!pip install split-folders"
      ],
      "metadata": {
        "colab": {
          "base_uri": "https://localhost:8080/"
        },
        "id": "cSQD8tKHXshi",
        "outputId": "c6c4620c-a72d-419b-d42c-7adc815f74b5"
      },
      "execution_count": 4,
      "outputs": [
        {
          "output_type": "stream",
          "name": "stdout",
          "text": [
            "Looking in indexes: https://pypi.org/simple, https://us-python.pkg.dev/colab-wheels/public/simple/\n",
            "Collecting split-folders\n",
            "  Downloading split_folders-0.5.1-py3-none-any.whl (8.4 kB)\n",
            "Installing collected packages: split-folders\n",
            "Successfully installed split-folders-0.5.1\n"
          ]
        }
      ]
    },
    {
      "cell_type": "code",
      "source": [
        "import os \n",
        "\n",
        "dir_i = os.listdir('/content/Dataset_img_final')\n",
        "\n",
        "for i in dir_i:\n",
        "  dir_a = os.path.join('/content/Dataset_img_final', i)\n",
        "  print(i, ' memiliki ', len(os.listdir(dir_a)))"
      ],
      "metadata": {
        "colab": {
          "base_uri": "https://localhost:8080/"
        },
        "id": "tNBa_6PGXwA1",
        "outputId": "6be9584a-ef2c-4f0e-ae40-20ab4033cf45"
      },
      "execution_count": 5,
      "outputs": [
        {
          "output_type": "stream",
          "name": "stdout",
          "text": [
            "orthopaedic wounds  memiliki  49\n",
            "miscellaneous  memiliki  56\n",
            "leg-ulcer-images  memiliki  134\n",
            "foot-ulcers  memiliki  384\n",
            "pressure ulcer  memiliki  856\n",
            "epidermolysis-bullosa  memiliki  5\n",
            "toes  memiliki  35\n",
            "haemangioma  memiliki  6\n",
            "DFU  memiliki  673\n",
            "burns  memiliki  457\n",
            "malignant-wound-images  memiliki  9\n",
            "meningitis  memiliki  24\n",
            "normal  memiliki  300\n",
            "venous  memiliki  411\n",
            "extravasation-wound-images  memiliki  20\n",
            "pilonidal-sinus  memiliki  3\n",
            "surgical  memiliki  420\n",
            "skin tears  memiliki  54\n",
            "abdominal-wounds  memiliki  13\n",
            "trauma  memiliki  93\n"
          ]
        }
      ]
    },
    {
      "cell_type": "code",
      "source": [
        "!mv \"/content/Dataset_img_final/pilonidal-sinus\" \"/content/content\"\n",
        "!mv \"/content/Dataset_img_final/haemangioma\" \"/content/content\"\n",
        "!mv \"/content/Dataset_img_final/epidermolysis-bullosa\" \"/content/content\"\n",
        "!mv \"/content/Dataset_img_final/extravasation-wound-images\" \"/content/content\"\n",
        "!mv \"/content/Dataset_img_final/malignant-wound-images\" \"/content/content\"\n",
        "!mv \"/content/Dataset_img_final/abdominal-wounds\" \"/content/content\"\n",
        "!mv \"/content/Dataset_img_final/meningitis\" \"/content/content\"\n",
        "!mv \"/content/Dataset_img_final/toes\" \"/content/content\"\n",
        "!mv \"/content/Dataset_img_final/miscellaneous\" \"/content/content\"\n",
        "!mv \"/content/Dataset_img_final/skin tears\" \"/content/content\"\n",
        "!mv \"/content/Dataset_img_final/trauma\" \"/content/content\"\n",
        "!mv \"/content/Dataset_img_final/orthopaedic wounds\" \"/content/content\"\n",
        "!mv \"/content/Dataset_img_final/leg-ulcer-images\" \"/content/content\"\n",
        "!mv \"/content/Dataset_img_final/normal\" \"/content/content\"\n",
        "!mv \"/content/Dataset_img_final/DFU\" \"/content/content\""
      ],
      "metadata": {
        "id": "IsM5YLzRX0Hp"
      },
      "execution_count": 6,
      "outputs": []
    },
    {
      "cell_type": "code",
      "source": [
        "import splitfolders\n",
        "\n",
        "folder = '/content/Dataset_img_final'\n",
        "\n",
        "splitfolders.ratio(folder, output='/content/Dataset_split',\n",
        "                 seed=42, ratio=(0.8, 0.2),\n",
        "                 group_prefix = None\n",
        "                 )"
      ],
      "metadata": {
        "colab": {
          "base_uri": "https://localhost:8080/"
        },
        "id": "qxdB1hjjYFKO",
        "outputId": "bf2f894d-95ec-44a5-ffd4-4fc8bed1117e"
      },
      "execution_count": 7,
      "outputs": [
        {
          "output_type": "stream",
          "name": "stderr",
          "text": [
            "Copying files: 2528 files [00:00, 6489.78 files/s]\n"
          ]
        }
      ]
    },
    {
      "cell_type": "code",
      "source": [
        "import os \n",
        "\n",
        "dir_i = os.listdir('/content/Dataset_split/train')\n",
        "\n",
        "for i in dir_i:\n",
        "  dir_a = os.path.join('/content/Dataset_split/train', i)\n",
        "  print(i, ' memiliki ', len(os.listdir(dir_a)))"
      ],
      "metadata": {
        "colab": {
          "base_uri": "https://localhost:8080/"
        },
        "id": "vJDYbZGpYW4H",
        "outputId": "f6eda936-fead-4ad6-fc33-6b4328171a4a"
      },
      "execution_count": 8,
      "outputs": [
        {
          "output_type": "stream",
          "name": "stdout",
          "text": [
            "foot-ulcers  memiliki  307\n",
            "pressure ulcer  memiliki  684\n",
            "burns  memiliki  365\n",
            "venous  memiliki  328\n",
            "surgical  memiliki  336\n"
          ]
        }
      ]
    },
    {
      "cell_type": "code",
      "source": [
        "import os \n",
        "\n",
        "dir_i = os.listdir('/content/Dataset_split/val')\n",
        "\n",
        "for i in dir_i:\n",
        "  dir_a = os.path.join('/content/Dataset_split/val', i)\n",
        "  print(i, ' memiliki ', len(os.listdir(dir_a)))"
      ],
      "metadata": {
        "colab": {
          "base_uri": "https://localhost:8080/"
        },
        "id": "fS7gnWYHYYIp",
        "outputId": "029f7571-219e-4588-95ea-99cfda04c54f"
      },
      "execution_count": 9,
      "outputs": [
        {
          "output_type": "stream",
          "name": "stdout",
          "text": [
            "foot-ulcers  memiliki  77\n",
            "pressure ulcer  memiliki  172\n",
            "burns  memiliki  92\n",
            "venous  memiliki  83\n",
            "surgical  memiliki  84\n"
          ]
        }
      ]
    },
    {
      "cell_type": "code",
      "source": [
        "import tensorflow as tf\n",
        "from tensorflow.keras.preprocessing.image import ImageDataGenerator\n",
        "\n",
        "train_dir = '/content/Dataset_split/train'\n",
        "val_dir = '/content/Dataset_split/val'\n",
        "\n",
        "train_datagen = ImageDataGenerator(\n",
        "    rescale=1./255,\n",
        "    shear_range=0.2,\n",
        "    zoom_range=0.2,\n",
        "    rotation_range=20,\n",
        "    horizontal_flip=True,\n",
        "    fill_mode='nearest',\n",
        ")\n",
        "\n",
        "val_datagen = ImageDataGenerator(\n",
        "    rescale=1./255,\n",
        ")"
      ],
      "metadata": {
        "id": "lUGHuEg5YZ0c"
      },
      "execution_count": 10,
      "outputs": []
    },
    {
      "cell_type": "code",
      "source": [
        "import tensorflow as tf\n",
        "import urllib.request\n",
        "from keras_preprocessing.image import ImageDataGenerator\n",
        "from tensorflow.keras.optimizers import RMSprop\n",
        "from tensorflow.keras import layers\n",
        "from tensorflow.keras import Model\n",
        "from tensorflow.keras.applications import InceptionResNetV2\n",
        "\n",
        "pre_trained_model = InceptionResNetV2(input_shape=(150,150,3),\n",
        "                                    include_top=False,\n",
        "                                    weights='imagenet')\n",
        "\n",
        "pre_trained_model.summary()"
      ],
      "metadata": {
        "id": "Y9mEJS39Yc3j"
      },
      "execution_count": null,
      "outputs": []
    },
    {
      "cell_type": "code",
      "source": [
        "for layer in pre_trained_model.layers:\n",
        "  layer.trainable = False\n",
        "\n",
        "last_layer = pre_trained_model.get_layer('activation_120')\n",
        "last_output = last_layer.output\n",
        "x = layers.Flatten()(last_output)\n",
        "x = layers.Dense(1024, activation='relu')(x)\n",
        "x = layers.Dropout(0.5)(x)\n",
        "x = layers.Dense(5, activation='softmax')(x)\n",
        "\n",
        "train_generator = train_datagen.flow_from_directory(\n",
        "    train_dir,\n",
        "    target_size=(150, 150),\n",
        "    batch_size=32,\n",
        "    class_mode='categorical',\n",
        "    ) \n",
        "validation_generator = train_datagen.flow_from_directory(\n",
        "    val_dir, \n",
        "    target_size=(150, 150),\n",
        "    batch_size=32,\n",
        "    class_mode='categorical',\n",
        "    )\n",
        "\n",
        "callbacks = tf.keras.callbacks.EarlyStopping(monitor='val_acc', patience=20, restore_best_weights=True)\n",
        "model_2 = Model(pre_trained_model.input, x)\n",
        "model_2.compile(optimizer=tf.optimizers.Adam(learning_rate=0.001),\n",
        "                  loss='categorical_crossentropy',\n",
        "                  metrics=['acc'])"
      ],
      "metadata": {
        "colab": {
          "base_uri": "https://localhost:8080/"
        },
        "id": "s0myYo--YfPy",
        "outputId": "eb88dd41-4102-4c3e-af1b-9a8162daa6ec"
      },
      "execution_count": 12,
      "outputs": [
        {
          "output_type": "stream",
          "name": "stdout",
          "text": [
            "Found 2020 images belonging to 5 classes.\n",
            "Found 508 images belonging to 5 classes.\n"
          ]
        }
      ]
    },
    {
      "cell_type": "code",
      "source": [
        "from keras.callbacks import ModelCheckpoint\n",
        "mc = ModelCheckpoint('best_model_1.h5', monitor='val_acc', mode='max', verbose=1, save_best_only=True)"
      ],
      "metadata": {
        "id": "W4CTo2gM4Ofv"
      },
      "execution_count": 13,
      "outputs": []
    },
    {
      "cell_type": "code",
      "source": [
        "history = model_2.fit(train_generator,\n",
        "            steps_per_epoch= 2020/32,\n",
        "            validation_steps= 508/32,\n",
        "            epochs=100,\n",
        "            validation_data=validation_generator,\n",
        "            verbose=1,\n",
        "            callbacks=[callbacks,mc]\n",
        "            )\n"
      ],
      "metadata": {
        "colab": {
          "base_uri": "https://localhost:8080/"
        },
        "id": "puD8vzpDYg4n",
        "outputId": "24303fab-7f0c-40d6-8dd4-23bf85e67513"
      },
      "execution_count": 14,
      "outputs": [
        {
          "output_type": "stream",
          "name": "stdout",
          "text": [
            "Epoch 1/100\n",
            "64/63 [==============================] - ETA: 0s - loss: 1.1339 - acc: 0.5990\n",
            "Epoch 1: val_acc improved from -inf to 0.69882, saving model to best_model_1.h5\n",
            "63/63 [==============================] - 44s 443ms/step - loss: 1.1339 - acc: 0.5990 - val_loss: 0.8230 - val_acc: 0.6988\n",
            "Epoch 2/100\n",
            "64/63 [==============================] - ETA: 0s - loss: 0.6794 - acc: 0.7569\n",
            "Epoch 2: val_acc improved from 0.69882 to 0.74016, saving model to best_model_1.h5\n",
            "63/63 [==============================] - 26s 415ms/step - loss: 0.6794 - acc: 0.7569 - val_loss: 0.7010 - val_acc: 0.7402\n",
            "Epoch 3/100\n",
            "64/63 [==============================] - ETA: 0s - loss: 0.5171 - acc: 0.8153\n",
            "Epoch 3: val_acc improved from 0.74016 to 0.77953, saving model to best_model_1.h5\n",
            "63/63 [==============================] - 25s 394ms/step - loss: 0.5171 - acc: 0.8153 - val_loss: 0.6551 - val_acc: 0.7795\n",
            "Epoch 4/100\n",
            "64/63 [==============================] - ETA: 0s - loss: 0.4092 - acc: 0.8545\n",
            "Epoch 4: val_acc did not improve from 0.77953\n",
            "63/63 [==============================] - 24s 379ms/step - loss: 0.4092 - acc: 0.8545 - val_loss: 0.6930 - val_acc: 0.7559\n",
            "Epoch 5/100\n",
            "64/63 [==============================] - ETA: 0s - loss: 0.3758 - acc: 0.8698\n",
            "Epoch 5: val_acc improved from 0.77953 to 0.79331, saving model to best_model_1.h5\n",
            "63/63 [==============================] - 27s 423ms/step - loss: 0.3758 - acc: 0.8698 - val_loss: 0.6055 - val_acc: 0.7933\n",
            "Epoch 6/100\n",
            "64/63 [==============================] - ETA: 0s - loss: 0.2996 - acc: 0.9050\n",
            "Epoch 6: val_acc did not improve from 0.79331\n",
            "63/63 [==============================] - 24s 384ms/step - loss: 0.2996 - acc: 0.9050 - val_loss: 0.5711 - val_acc: 0.7835\n",
            "Epoch 7/100\n",
            "64/63 [==============================] - ETA: 0s - loss: 0.2630 - acc: 0.9119\n",
            "Epoch 7: val_acc improved from 0.79331 to 0.82087, saving model to best_model_1.h5\n",
            "63/63 [==============================] - 25s 399ms/step - loss: 0.2630 - acc: 0.9119 - val_loss: 0.5364 - val_acc: 0.8209\n",
            "Epoch 8/100\n",
            "64/63 [==============================] - ETA: 0s - loss: 0.2470 - acc: 0.9119\n",
            "Epoch 8: val_acc did not improve from 0.82087\n",
            "63/63 [==============================] - 24s 379ms/step - loss: 0.2470 - acc: 0.9119 - val_loss: 0.5818 - val_acc: 0.7933\n",
            "Epoch 9/100\n",
            "64/63 [==============================] - ETA: 0s - loss: 0.2283 - acc: 0.9178\n",
            "Epoch 9: val_acc did not improve from 0.82087\n",
            "63/63 [==============================] - 24s 382ms/step - loss: 0.2283 - acc: 0.9178 - val_loss: 0.5685 - val_acc: 0.7953\n",
            "Epoch 10/100\n",
            "64/63 [==============================] - ETA: 0s - loss: 0.2127 - acc: 0.9332\n",
            "Epoch 10: val_acc did not improve from 0.82087\n",
            "63/63 [==============================] - 25s 404ms/step - loss: 0.2127 - acc: 0.9332 - val_loss: 0.6297 - val_acc: 0.8209\n",
            "Epoch 11/100\n",
            "64/63 [==============================] - ETA: 0s - loss: 0.1886 - acc: 0.9287\n",
            "Epoch 11: val_acc did not improve from 0.82087\n",
            "63/63 [==============================] - 24s 380ms/step - loss: 0.1886 - acc: 0.9287 - val_loss: 0.7128 - val_acc: 0.7913\n",
            "Epoch 12/100\n",
            "64/63 [==============================] - ETA: 0s - loss: 0.1662 - acc: 0.9431\n",
            "Epoch 12: val_acc did not improve from 0.82087\n",
            "63/63 [==============================] - 24s 379ms/step - loss: 0.1662 - acc: 0.9431 - val_loss: 0.6257 - val_acc: 0.8031\n",
            "Epoch 13/100\n",
            "64/63 [==============================] - ETA: 0s - loss: 0.1339 - acc: 0.9579\n",
            "Epoch 13: val_acc improved from 0.82087 to 0.84252, saving model to best_model_1.h5\n",
            "63/63 [==============================] - 25s 403ms/step - loss: 0.1339 - acc: 0.9579 - val_loss: 0.5688 - val_acc: 0.8425\n",
            "Epoch 14/100\n",
            "64/63 [==============================] - ETA: 0s - loss: 0.1951 - acc: 0.9322\n",
            "Epoch 14: val_acc did not improve from 0.84252\n",
            "63/63 [==============================] - 25s 402ms/step - loss: 0.1951 - acc: 0.9322 - val_loss: 0.5911 - val_acc: 0.8268\n",
            "Epoch 15/100\n",
            "64/63 [==============================] - ETA: 0s - loss: 0.1440 - acc: 0.9559\n",
            "Epoch 15: val_acc did not improve from 0.84252\n",
            "63/63 [==============================] - 24s 383ms/step - loss: 0.1440 - acc: 0.9559 - val_loss: 0.5199 - val_acc: 0.8169\n",
            "Epoch 16/100\n",
            "64/63 [==============================] - ETA: 0s - loss: 0.1560 - acc: 0.9426\n",
            "Epoch 16: val_acc did not improve from 0.84252\n",
            "63/63 [==============================] - 24s 382ms/step - loss: 0.1560 - acc: 0.9426 - val_loss: 0.6466 - val_acc: 0.8268\n",
            "Epoch 17/100\n",
            "64/63 [==============================] - ETA: 0s - loss: 0.1457 - acc: 0.9554\n",
            "Epoch 17: val_acc did not improve from 0.84252\n",
            "63/63 [==============================] - 24s 380ms/step - loss: 0.1457 - acc: 0.9554 - val_loss: 0.5425 - val_acc: 0.8287\n",
            "Epoch 18/100\n",
            "64/63 [==============================] - ETA: 0s - loss: 0.1315 - acc: 0.9505\n",
            "Epoch 18: val_acc did not improve from 0.84252\n",
            "63/63 [==============================] - 24s 382ms/step - loss: 0.1315 - acc: 0.9505 - val_loss: 0.7404 - val_acc: 0.7992\n",
            "Epoch 19/100\n",
            "64/63 [==============================] - ETA: 0s - loss: 0.1108 - acc: 0.9589\n",
            "Epoch 19: val_acc did not improve from 0.84252\n",
            "63/63 [==============================] - 24s 383ms/step - loss: 0.1108 - acc: 0.9589 - val_loss: 0.6801 - val_acc: 0.8110\n",
            "Epoch 20/100\n",
            "64/63 [==============================] - ETA: 0s - loss: 0.1186 - acc: 0.9574\n",
            "Epoch 20: val_acc did not improve from 0.84252\n",
            "63/63 [==============================] - 24s 384ms/step - loss: 0.1186 - acc: 0.9574 - val_loss: 0.6594 - val_acc: 0.8406\n",
            "Epoch 21/100\n",
            "64/63 [==============================] - ETA: 0s - loss: 0.1087 - acc: 0.9658\n",
            "Epoch 21: val_acc did not improve from 0.84252\n",
            "63/63 [==============================] - 25s 402ms/step - loss: 0.1087 - acc: 0.9658 - val_loss: 0.6311 - val_acc: 0.8071\n",
            "Epoch 22/100\n",
            "64/63 [==============================] - ETA: 0s - loss: 0.1056 - acc: 0.9634\n",
            "Epoch 22: val_acc did not improve from 0.84252\n",
            "63/63 [==============================] - 24s 384ms/step - loss: 0.1056 - acc: 0.9634 - val_loss: 0.6900 - val_acc: 0.8169\n",
            "Epoch 23/100\n",
            "64/63 [==============================] - ETA: 0s - loss: 0.1226 - acc: 0.9584\n",
            "Epoch 23: val_acc improved from 0.84252 to 0.85039, saving model to best_model_1.h5\n",
            "63/63 [==============================] - 25s 401ms/step - loss: 0.1226 - acc: 0.9584 - val_loss: 0.4980 - val_acc: 0.8504\n",
            "Epoch 24/100\n",
            "64/63 [==============================] - ETA: 0s - loss: 0.1151 - acc: 0.9579\n",
            "Epoch 24: val_acc did not improve from 0.85039\n",
            "63/63 [==============================] - 24s 384ms/step - loss: 0.1151 - acc: 0.9579 - val_loss: 0.5553 - val_acc: 0.8406\n",
            "Epoch 25/100\n",
            "64/63 [==============================] - ETA: 0s - loss: 0.0984 - acc: 0.9693\n",
            "Epoch 25: val_acc did not improve from 0.85039\n",
            "63/63 [==============================] - 24s 381ms/step - loss: 0.0984 - acc: 0.9693 - val_loss: 0.6201 - val_acc: 0.8169\n",
            "Epoch 26/100\n",
            "64/63 [==============================] - ETA: 0s - loss: 0.1112 - acc: 0.9639\n",
            "Epoch 26: val_acc did not improve from 0.85039\n",
            "63/63 [==============================] - 26s 405ms/step - loss: 0.1112 - acc: 0.9639 - val_loss: 0.5671 - val_acc: 0.8465\n",
            "Epoch 27/100\n",
            "64/63 [==============================] - ETA: 0s - loss: 0.0804 - acc: 0.9639\n",
            "Epoch 27: val_acc improved from 0.85039 to 0.85236, saving model to best_model_1.h5\n",
            "63/63 [==============================] - 25s 397ms/step - loss: 0.0804 - acc: 0.9639 - val_loss: 0.5474 - val_acc: 0.8524\n",
            "Epoch 28/100\n",
            "64/63 [==============================] - ETA: 0s - loss: 0.0755 - acc: 0.9757\n",
            "Epoch 28: val_acc did not improve from 0.85236\n",
            "63/63 [==============================] - 24s 385ms/step - loss: 0.0755 - acc: 0.9757 - val_loss: 0.6016 - val_acc: 0.8425\n",
            "Epoch 29/100\n",
            "64/63 [==============================] - ETA: 0s - loss: 0.1063 - acc: 0.9614\n",
            "Epoch 29: val_acc improved from 0.85236 to 0.86024, saving model to best_model_1.h5\n",
            "63/63 [==============================] - 25s 397ms/step - loss: 0.1063 - acc: 0.9614 - val_loss: 0.4674 - val_acc: 0.8602\n",
            "Epoch 30/100\n",
            "64/63 [==============================] - ETA: 0s - loss: 0.0916 - acc: 0.9752\n",
            "Epoch 30: val_acc did not improve from 0.86024\n",
            "63/63 [==============================] - 25s 404ms/step - loss: 0.0916 - acc: 0.9752 - val_loss: 0.5852 - val_acc: 0.8465\n",
            "Epoch 31/100\n",
            "64/63 [==============================] - ETA: 0s - loss: 0.0926 - acc: 0.9708\n",
            "Epoch 31: val_acc improved from 0.86024 to 0.86614, saving model to best_model_1.h5\n",
            "63/63 [==============================] - 25s 397ms/step - loss: 0.0926 - acc: 0.9708 - val_loss: 0.5290 - val_acc: 0.8661\n",
            "Epoch 32/100\n",
            "64/63 [==============================] - ETA: 0s - loss: 0.1003 - acc: 0.9688\n",
            "Epoch 32: val_acc did not improve from 0.86614\n",
            "63/63 [==============================] - 24s 386ms/step - loss: 0.1003 - acc: 0.9688 - val_loss: 0.6053 - val_acc: 0.8346\n",
            "Epoch 33/100\n",
            "64/63 [==============================] - ETA: 0s - loss: 0.0920 - acc: 0.9693\n",
            "Epoch 33: val_acc did not improve from 0.86614\n",
            "63/63 [==============================] - 24s 380ms/step - loss: 0.0920 - acc: 0.9693 - val_loss: 0.5812 - val_acc: 0.8445\n",
            "Epoch 34/100\n",
            "64/63 [==============================] - ETA: 0s - loss: 0.0861 - acc: 0.9743\n",
            "Epoch 34: val_acc did not improve from 0.86614\n",
            "63/63 [==============================] - 24s 381ms/step - loss: 0.0861 - acc: 0.9743 - val_loss: 0.5561 - val_acc: 0.8425\n",
            "Epoch 35/100\n",
            "64/63 [==============================] - ETA: 0s - loss: 0.0830 - acc: 0.9748\n",
            "Epoch 35: val_acc did not improve from 0.86614\n",
            "63/63 [==============================] - 24s 384ms/step - loss: 0.0830 - acc: 0.9748 - val_loss: 0.4680 - val_acc: 0.8563\n",
            "Epoch 36/100\n",
            "64/63 [==============================] - ETA: 0s - loss: 0.0749 - acc: 0.9752\n",
            "Epoch 36: val_acc did not improve from 0.86614\n",
            "63/63 [==============================] - 24s 381ms/step - loss: 0.0749 - acc: 0.9752 - val_loss: 0.5743 - val_acc: 0.8543\n",
            "Epoch 37/100\n",
            "64/63 [==============================] - ETA: 0s - loss: 0.1068 - acc: 0.9644\n",
            "Epoch 37: val_acc did not improve from 0.86614\n",
            "63/63 [==============================] - 25s 404ms/step - loss: 0.1068 - acc: 0.9644 - val_loss: 0.8084 - val_acc: 0.7972\n",
            "Epoch 38/100\n",
            "64/63 [==============================] - ETA: 0s - loss: 0.0805 - acc: 0.9703\n",
            "Epoch 38: val_acc did not improve from 0.86614\n",
            "63/63 [==============================] - 24s 384ms/step - loss: 0.0805 - acc: 0.9703 - val_loss: 0.4981 - val_acc: 0.8524\n",
            "Epoch 39/100\n",
            "64/63 [==============================] - ETA: 0s - loss: 0.1065 - acc: 0.9639\n",
            "Epoch 39: val_acc did not improve from 0.86614\n",
            "63/63 [==============================] - 24s 386ms/step - loss: 0.1065 - acc: 0.9639 - val_loss: 0.6992 - val_acc: 0.8406\n",
            "Epoch 40/100\n",
            "64/63 [==============================] - ETA: 0s - loss: 0.0964 - acc: 0.9718\n",
            "Epoch 40: val_acc did not improve from 0.86614\n",
            "63/63 [==============================] - 24s 381ms/step - loss: 0.0964 - acc: 0.9718 - val_loss: 0.5153 - val_acc: 0.8563\n",
            "Epoch 41/100\n",
            "64/63 [==============================] - ETA: 0s - loss: 0.0688 - acc: 0.9772\n",
            "Epoch 41: val_acc did not improve from 0.86614\n",
            "63/63 [==============================] - 24s 383ms/step - loss: 0.0688 - acc: 0.9772 - val_loss: 0.5364 - val_acc: 0.8602\n",
            "Epoch 42/100\n",
            "64/63 [==============================] - ETA: 0s - loss: 0.1027 - acc: 0.9678\n",
            "Epoch 42: val_acc did not improve from 0.86614\n",
            "63/63 [==============================] - 25s 404ms/step - loss: 0.1027 - acc: 0.9678 - val_loss: 0.5152 - val_acc: 0.8602\n",
            "Epoch 43/100\n",
            "64/63 [==============================] - ETA: 0s - loss: 0.0872 - acc: 0.9728\n",
            "Epoch 43: val_acc did not improve from 0.86614\n",
            "63/63 [==============================] - 24s 387ms/step - loss: 0.0872 - acc: 0.9728 - val_loss: 0.6202 - val_acc: 0.8524\n",
            "Epoch 44/100\n",
            "64/63 [==============================] - ETA: 0s - loss: 0.0828 - acc: 0.9703\n",
            "Epoch 44: val_acc improved from 0.86614 to 0.86811, saving model to best_model_1.h5\n",
            "63/63 [==============================] - 25s 398ms/step - loss: 0.0828 - acc: 0.9703 - val_loss: 0.5163 - val_acc: 0.8681\n",
            "Epoch 45/100\n",
            "64/63 [==============================] - ETA: 0s - loss: 0.0675 - acc: 0.9777\n",
            "Epoch 45: val_acc improved from 0.86811 to 0.87795, saving model to best_model_1.h5\n",
            "63/63 [==============================] - 25s 404ms/step - loss: 0.0675 - acc: 0.9777 - val_loss: 0.4389 - val_acc: 0.8780\n",
            "Epoch 46/100\n",
            "64/63 [==============================] - ETA: 0s - loss: 0.1018 - acc: 0.9698\n",
            "Epoch 46: val_acc did not improve from 0.87795\n",
            "63/63 [==============================] - 26s 407ms/step - loss: 0.1018 - acc: 0.9698 - val_loss: 0.7077 - val_acc: 0.8346\n",
            "Epoch 47/100\n",
            "64/63 [==============================] - ETA: 0s - loss: 0.0674 - acc: 0.9777\n",
            "Epoch 47: val_acc did not improve from 0.87795\n",
            "63/63 [==============================] - 24s 381ms/step - loss: 0.0674 - acc: 0.9777 - val_loss: 0.6322 - val_acc: 0.8602\n",
            "Epoch 48/100\n",
            "64/63 [==============================] - ETA: 0s - loss: 0.0852 - acc: 0.9762\n",
            "Epoch 48: val_acc did not improve from 0.87795\n",
            "63/63 [==============================] - 24s 385ms/step - loss: 0.0852 - acc: 0.9762 - val_loss: 0.6613 - val_acc: 0.8346\n",
            "Epoch 49/100\n",
            "64/63 [==============================] - ETA: 0s - loss: 0.0941 - acc: 0.9718\n",
            "Epoch 49: val_acc did not improve from 0.87795\n",
            "63/63 [==============================] - 24s 384ms/step - loss: 0.0941 - acc: 0.9718 - val_loss: 0.5078 - val_acc: 0.8720\n",
            "Epoch 50/100\n",
            "64/63 [==============================] - ETA: 0s - loss: 0.0898 - acc: 0.9743\n",
            "Epoch 50: val_acc did not improve from 0.87795\n",
            "63/63 [==============================] - 24s 384ms/step - loss: 0.0898 - acc: 0.9743 - val_loss: 0.5820 - val_acc: 0.8543\n",
            "Epoch 51/100\n",
            "64/63 [==============================] - ETA: 0s - loss: 0.0880 - acc: 0.9728\n",
            "Epoch 51: val_acc did not improve from 0.87795\n",
            "63/63 [==============================] - 24s 386ms/step - loss: 0.0880 - acc: 0.9728 - val_loss: 0.6181 - val_acc: 0.8543\n",
            "Epoch 52/100\n",
            "64/63 [==============================] - ETA: 0s - loss: 0.1021 - acc: 0.9668\n",
            "Epoch 52: val_acc did not improve from 0.87795\n",
            "63/63 [==============================] - 24s 380ms/step - loss: 0.1021 - acc: 0.9668 - val_loss: 0.6839 - val_acc: 0.8622\n",
            "Epoch 53/100\n",
            "64/63 [==============================] - ETA: 0s - loss: 0.0900 - acc: 0.9748\n",
            "Epoch 53: val_acc did not improve from 0.87795\n",
            "63/63 [==============================] - 25s 402ms/step - loss: 0.0900 - acc: 0.9748 - val_loss: 0.5329 - val_acc: 0.8583\n",
            "Epoch 54/100\n",
            "64/63 [==============================] - ETA: 0s - loss: 0.1126 - acc: 0.9708\n",
            "Epoch 54: val_acc did not improve from 0.87795\n",
            "63/63 [==============================] - 24s 378ms/step - loss: 0.1126 - acc: 0.9708 - val_loss: 0.5153 - val_acc: 0.8780\n",
            "Epoch 55/100\n",
            "64/63 [==============================] - ETA: 0s - loss: 0.0923 - acc: 0.9738\n",
            "Epoch 55: val_acc did not improve from 0.87795\n",
            "63/63 [==============================] - 24s 382ms/step - loss: 0.0923 - acc: 0.9738 - val_loss: 0.6978 - val_acc: 0.8602\n",
            "Epoch 56/100\n",
            "64/63 [==============================] - ETA: 0s - loss: 0.0946 - acc: 0.9738\n",
            "Epoch 56: val_acc did not improve from 0.87795\n",
            "63/63 [==============================] - 24s 381ms/step - loss: 0.0946 - acc: 0.9738 - val_loss: 0.6726 - val_acc: 0.8583\n",
            "Epoch 57/100\n",
            "64/63 [==============================] - ETA: 0s - loss: 0.0729 - acc: 0.9723\n",
            "Epoch 57: val_acc did not improve from 0.87795\n",
            "63/63 [==============================] - 25s 402ms/step - loss: 0.0729 - acc: 0.9723 - val_loss: 0.8145 - val_acc: 0.8169\n",
            "Epoch 58/100\n",
            "64/63 [==============================] - ETA: 0s - loss: 0.0740 - acc: 0.9767\n",
            "Epoch 58: val_acc did not improve from 0.87795\n",
            "63/63 [==============================] - 24s 380ms/step - loss: 0.0740 - acc: 0.9767 - val_loss: 0.5863 - val_acc: 0.8642\n",
            "Epoch 59/100\n",
            "64/63 [==============================] - ETA: 0s - loss: 0.0763 - acc: 0.9797\n",
            "Epoch 59: val_acc did not improve from 0.87795\n",
            "63/63 [==============================] - 24s 382ms/step - loss: 0.0763 - acc: 0.9797 - val_loss: 0.4990 - val_acc: 0.8740\n",
            "Epoch 60/100\n",
            "64/63 [==============================] - ETA: 0s - loss: 0.0783 - acc: 0.9792\n",
            "Epoch 60: val_acc did not improve from 0.87795\n",
            "63/63 [==============================] - 24s 384ms/step - loss: 0.0783 - acc: 0.9792 - val_loss: 0.6476 - val_acc: 0.8406\n",
            "Epoch 61/100\n",
            "64/63 [==============================] - ETA: 0s - loss: 0.0642 - acc: 0.9787\n",
            "Epoch 61: val_acc improved from 0.87795 to 0.88583, saving model to best_model_1.h5\n",
            "63/63 [==============================] - 25s 399ms/step - loss: 0.0642 - acc: 0.9787 - val_loss: 0.5347 - val_acc: 0.8858\n",
            "Epoch 62/100\n",
            "64/63 [==============================] - ETA: 0s - loss: 0.0630 - acc: 0.9782\n",
            "Epoch 62: val_acc did not improve from 0.88583\n",
            "63/63 [==============================] - 24s 385ms/step - loss: 0.0630 - acc: 0.9782 - val_loss: 0.6087 - val_acc: 0.8583\n",
            "Epoch 63/100\n",
            "64/63 [==============================] - ETA: 0s - loss: 0.0875 - acc: 0.9718\n",
            "Epoch 63: val_acc did not improve from 0.88583\n",
            "63/63 [==============================] - 24s 383ms/step - loss: 0.0875 - acc: 0.9718 - val_loss: 0.6235 - val_acc: 0.8484\n",
            "Epoch 64/100\n",
            "64/63 [==============================] - ETA: 0s - loss: 0.0755 - acc: 0.9743\n",
            "Epoch 64: val_acc did not improve from 0.88583\n",
            "63/63 [==============================] - 25s 405ms/step - loss: 0.0755 - acc: 0.9743 - val_loss: 0.7031 - val_acc: 0.8484\n",
            "Epoch 65/100\n",
            "64/63 [==============================] - ETA: 0s - loss: 0.0872 - acc: 0.9748\n",
            "Epoch 65: val_acc did not improve from 0.88583\n",
            "63/63 [==============================] - 24s 384ms/step - loss: 0.0872 - acc: 0.9748 - val_loss: 0.6105 - val_acc: 0.8661\n",
            "Epoch 66/100\n",
            "64/63 [==============================] - ETA: 0s - loss: 0.0773 - acc: 0.9782\n",
            "Epoch 66: val_acc did not improve from 0.88583\n",
            "63/63 [==============================] - 24s 380ms/step - loss: 0.0773 - acc: 0.9782 - val_loss: 0.6332 - val_acc: 0.8720\n",
            "Epoch 67/100\n",
            "64/63 [==============================] - ETA: 0s - loss: 0.0751 - acc: 0.9777\n",
            "Epoch 67: val_acc did not improve from 0.88583\n",
            "63/63 [==============================] - 24s 383ms/step - loss: 0.0751 - acc: 0.9777 - val_loss: 0.6821 - val_acc: 0.8484\n",
            "Epoch 68/100\n",
            "64/63 [==============================] - ETA: 0s - loss: 0.0875 - acc: 0.9752\n",
            "Epoch 68: val_acc did not improve from 0.88583\n",
            "63/63 [==============================] - 24s 383ms/step - loss: 0.0875 - acc: 0.9752 - val_loss: 0.6627 - val_acc: 0.8701\n",
            "Epoch 69/100\n",
            "64/63 [==============================] - ETA: 0s - loss: 0.0686 - acc: 0.9792\n",
            "Epoch 69: val_acc did not improve from 0.88583\n",
            "63/63 [==============================] - 26s 405ms/step - loss: 0.0686 - acc: 0.9792 - val_loss: 0.6676 - val_acc: 0.8406\n",
            "Epoch 70/100\n",
            "64/63 [==============================] - ETA: 0s - loss: 0.0630 - acc: 0.9822\n",
            "Epoch 70: val_acc did not improve from 0.88583\n",
            "63/63 [==============================] - 24s 381ms/step - loss: 0.0630 - acc: 0.9822 - val_loss: 0.7964 - val_acc: 0.8465\n",
            "Epoch 71/100\n",
            "64/63 [==============================] - ETA: 0s - loss: 0.0574 - acc: 0.9812\n",
            "Epoch 71: val_acc did not improve from 0.88583\n",
            "63/63 [==============================] - 24s 385ms/step - loss: 0.0574 - acc: 0.9812 - val_loss: 0.6032 - val_acc: 0.8720\n",
            "Epoch 72/100\n",
            "64/63 [==============================] - ETA: 0s - loss: 0.0627 - acc: 0.9822\n",
            "Epoch 72: val_acc did not improve from 0.88583\n",
            "63/63 [==============================] - 25s 404ms/step - loss: 0.0627 - acc: 0.9822 - val_loss: 0.6773 - val_acc: 0.8642\n",
            "Epoch 73/100\n",
            "64/63 [==============================] - ETA: 0s - loss: 0.0597 - acc: 0.9837\n",
            "Epoch 73: val_acc did not improve from 0.88583\n",
            "63/63 [==============================] - 24s 384ms/step - loss: 0.0597 - acc: 0.9837 - val_loss: 0.6240 - val_acc: 0.8504\n",
            "Epoch 74/100\n",
            "64/63 [==============================] - ETA: 0s - loss: 0.0634 - acc: 0.9847\n",
            "Epoch 74: val_acc did not improve from 0.88583\n",
            "63/63 [==============================] - 24s 385ms/step - loss: 0.0634 - acc: 0.9847 - val_loss: 0.5393 - val_acc: 0.8780\n",
            "Epoch 75/100\n",
            "64/63 [==============================] - ETA: 0s - loss: 0.0600 - acc: 0.9787\n",
            "Epoch 75: val_acc did not improve from 0.88583\n",
            "63/63 [==============================] - 24s 384ms/step - loss: 0.0600 - acc: 0.9787 - val_loss: 0.6647 - val_acc: 0.8563\n",
            "Epoch 76/100\n",
            "64/63 [==============================] - ETA: 0s - loss: 0.0784 - acc: 0.9767\n",
            "Epoch 76: val_acc did not improve from 0.88583\n",
            "63/63 [==============================] - 24s 382ms/step - loss: 0.0784 - acc: 0.9767 - val_loss: 0.6009 - val_acc: 0.8642\n",
            "Epoch 77/100\n",
            "64/63 [==============================] - ETA: 0s - loss: 0.0739 - acc: 0.9772\n",
            "Epoch 77: val_acc did not improve from 0.88583\n",
            "63/63 [==============================] - 24s 382ms/step - loss: 0.0739 - acc: 0.9772 - val_loss: 0.5993 - val_acc: 0.8642\n",
            "Epoch 78/100\n",
            "64/63 [==============================] - ETA: 0s - loss: 0.0843 - acc: 0.9748\n",
            "Epoch 78: val_acc did not improve from 0.88583\n",
            "63/63 [==============================] - 24s 379ms/step - loss: 0.0843 - acc: 0.9748 - val_loss: 0.7515 - val_acc: 0.8563\n",
            "Epoch 79/100\n",
            "64/63 [==============================] - ETA: 0s - loss: 0.0830 - acc: 0.9743\n",
            "Epoch 79: val_acc did not improve from 0.88583\n",
            "63/63 [==============================] - 24s 383ms/step - loss: 0.0830 - acc: 0.9743 - val_loss: 0.5746 - val_acc: 0.8740\n",
            "Epoch 80/100\n",
            "64/63 [==============================] - ETA: 0s - loss: 0.1002 - acc: 0.9698\n",
            "Epoch 80: val_acc did not improve from 0.88583\n",
            "63/63 [==============================] - 24s 382ms/step - loss: 0.1002 - acc: 0.9698 - val_loss: 0.6350 - val_acc: 0.8622\n",
            "Epoch 81/100\n",
            "64/63 [==============================] - ETA: 0s - loss: 0.0563 - acc: 0.9802\n",
            "Epoch 81: val_acc did not improve from 0.88583\n",
            "63/63 [==============================] - 24s 388ms/step - loss: 0.0563 - acc: 0.9802 - val_loss: 0.5826 - val_acc: 0.8681\n"
          ]
        }
      ]
    },
    {
      "cell_type": "code",
      "source": [
        "import matplotlib.pyplot as plt\n",
        "\n",
        "# Plot the model results\n",
        "acc = history.history['acc']\n",
        "val_acc = history.history['val_acc']\n",
        "loss = history.history['loss']\n",
        "val_loss = history.history['val_loss']\n",
        "\n",
        "epochs = range(len(acc))\n",
        "\n",
        "plt.plot(epochs, acc, 'r', label='Training accuracy')\n",
        "plt.plot(epochs, val_acc, 'b', label='Validation accuracy')\n",
        "plt.title('Training and validation accuracy')\n",
        "\n",
        "plt.figure()\n",
        "\n",
        "plt.plot(epochs, loss, 'r', label='Training Loss')\n",
        "plt.plot(epochs, val_loss, 'b', label='Validation Loss')\n",
        "plt.title('Training and validation loss')\n",
        "plt.legend()\n",
        "\n",
        "plt.show()"
      ],
      "metadata": {
        "colab": {
          "base_uri": "https://localhost:8080/",
          "height": 545
        },
        "id": "vf_41-UZ7zE3",
        "outputId": "e0e17113-e542-4a6d-f601-bc22461292e1"
      },
      "execution_count": 15,
      "outputs": [
        {
          "output_type": "display_data",
          "data": {
            "text/plain": [
              "<Figure size 432x288 with 1 Axes>"
            ],
            "image/png": "[encoded data removed]"
          },
          "metadata": {
            "needs_background": "light"
          }
        },
        {
          "output_type": "display_data",
          "data": {
            "text/plain": [
              "<Figure size 432x288 with 1 Axes>"
            ],
            "image/png": "[encoded data removed]"
          },
          "metadata": {
            "needs_background": "light"
          }
        }
      ]
    }
  ]
}