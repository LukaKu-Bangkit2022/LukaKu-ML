{
  "nbformat": 4,
  "nbformat_minor": 0,
  "metadata": {
    "colab": {
      "name": "LukaKu_Model_InceptionV3.ipynb",
      "provenance": [],
      "collapsed_sections": []
    },
    "kernelspec": {
      "name": "python3",
      "display_name": "Python 3"
    },
    "language_info": {
      "name": "python"
    },
    "accelerator": "GPU"
  },
  "cells": [
    {
      "cell_type": "code",
      "execution_count": 2,
      "metadata": {
        "id": "Sc3bDyHdXTbS",
        "colab": {
          "base_uri": "https://localhost:8080/"
        },
        "outputId": "3025d1f1-1f1a-4f86-d5cc-87665ea1a116"
      },
      "outputs": [
        {
          "output_type": "stream",
          "name": "stdout",
          "text": [
            "Thu Jun  9 14:39:20 2022       \n",
            "+-----------------------------------------------------------------------------+\n",
            "| NVIDIA-SMI 460.32.03    Driver Version: 460.32.03    CUDA Version: 11.2     |\n",
            "|-------------------------------+----------------------+----------------------+\n",
            "| GPU  Name        Persistence-M| Bus-Id        Disp.A | Volatile Uncorr. ECC |\n",
            "| Fan  Temp  Perf  Pwr:Usage/Cap|         Memory-Usage | GPU-Util  Compute M. |\n",
            "|                               |                      |               MIG M. |\n",
            "|===============================+======================+======================|\n",
            "|   0  Tesla T4            Off  | 00000000:00:04.0 Off |                    0 |\n",
            "| N/A   65C    P8    11W /  70W |      0MiB / 15109MiB |      0%      Default |\n",
            "|                               |                      |                  N/A |\n",
            "+-------------------------------+----------------------+----------------------+\n",
            "                                                                               \n",
            "+-----------------------------------------------------------------------------+\n",
            "| Processes:                                                                  |\n",
            "|  GPU   GI   CI        PID   Type   Process name                  GPU Memory |\n",
            "|        ID   ID                                                   Usage      |\n",
            "|=============================================================================|\n",
            "|  No running processes found                                                 |\n",
            "+-----------------------------------------------------------------------------+\n",
            "Thu Jun  9 14:39:21 2022       \n",
            "+-----------------------------------------------------------------------------+\n",
            "| NVIDIA-SMI 460.32.03    Driver Version: 460.32.03    CUDA Version: 11.2     |\n",
            "|-------------------------------+----------------------+----------------------+\n",
            "| GPU  Name        Persistence-M| Bus-Id        Disp.A | Volatile Uncorr. ECC |\n",
            "| Fan  Temp  Perf  Pwr:Usage/Cap|         Memory-Usage | GPU-Util  Compute M. |\n",
            "|                               |                      |               MIG M. |\n",
            "|===============================+======================+======================|\n",
            "|   0  Tesla T4            Off  | 00000000:00:04.0 Off |                    0 |\n",
            "| N/A   65C    P8    11W /  70W |      0MiB / 15109MiB |      0%      Default |\n",
            "|                               |                      |                  N/A |\n",
            "+-------------------------------+----------------------+----------------------+\n",
            "                                                                               \n",
            "+-----------------------------------------------------------------------------+\n",
            "| Processes:                                                                  |\n",
            "|  GPU   GI   CI        PID   Type   Process name                  GPU Memory |\n",
            "|        ID   ID                                                   Usage      |\n",
            "|=============================================================================|\n",
            "|  No running processes found                                                 |\n",
            "+-----------------------------------------------------------------------------+\n"
          ]
        }
      ],
      "source": [
        "!nvidia-smi"
      ]
    },
    {
      "cell_type": "code",
      "source": [
        "from google.colab import drive\n",
        "drive.mount('/content/drive')"
      ],
      "metadata": {
        "colab": {
          "base_uri": "https://localhost:8080/"
        },
        "id": "w5LZLQnzXlKF",
        "outputId": "a81df1e3-b8a5-4aa1-ffde-a6229e0d6707"
      },
      "execution_count": 3,
      "outputs": [
        {
          "output_type": "stream",
          "name": "stdout",
          "text": [
            "Mounted at /content/drive\n"
          ]
        }
      ]
    },
    {
      "cell_type": "code",
      "source": [
        "!unzip '/content/drive/MyDrive/Dataset_capstone_final.zip'"
      ],
      "metadata": {
        "id": "hdCfafpYXqo1"
      },
      "execution_count": null,
      "outputs": []
    },
    {
      "cell_type": "code",
      "source": [
        "!pip install split-folders"
      ],
      "metadata": {
        "colab": {
          "base_uri": "https://localhost:8080/"
        },
        "id": "cSQD8tKHXshi",
        "outputId": "53aa8e35-0b45-4b37-87b0-ee89232cbda0"
      },
      "execution_count": 5,
      "outputs": [
        {
          "output_type": "stream",
          "name": "stdout",
          "text": [
            "Looking in indexes: https://pypi.org/simple, https://us-python.pkg.dev/colab-wheels/public/simple/\n",
            "Collecting split-folders\n",
            "  Downloading split_folders-0.5.1-py3-none-any.whl (8.4 kB)\n",
            "Installing collected packages: split-folders\n",
            "Successfully installed split-folders-0.5.1\n"
          ]
        }
      ]
    },
    {
      "cell_type": "code",
      "source": [
        "import os \n",
        "\n",
        "dir_i = os.listdir('/content/Dataset_img_final')\n",
        "\n",
        "for i in dir_i:\n",
        "  dir_a = os.path.join('/content/Dataset_img_final', i)\n",
        "  print(i, ' memiliki ', len(os.listdir(dir_a)))"
      ],
      "metadata": {
        "colab": {
          "base_uri": "https://localhost:8080/"
        },
        "id": "tNBa_6PGXwA1",
        "outputId": "d39490dc-9a02-4018-b100-9a4610e3f8a7"
      },
      "execution_count": 6,
      "outputs": [
        {
          "output_type": "stream",
          "name": "stdout",
          "text": [
            "leg-ulcer-images  memiliki  134\n",
            "pressure ulcer  memiliki  856\n",
            "skin tears  memiliki  54\n",
            "toes  memiliki  35\n",
            "DFU  memiliki  673\n",
            "normal  memiliki  300\n",
            "miscellaneous  memiliki  56\n",
            "extravasation-wound-images  memiliki  20\n",
            "orthopaedic wounds  memiliki  49\n",
            "burns  memiliki  457\n",
            "epidermolysis-bullosa  memiliki  5\n",
            "pilonidal-sinus  memiliki  3\n",
            "abdominal-wounds  memiliki  13\n",
            "meningitis  memiliki  24\n",
            "venous  memiliki  411\n",
            "foot-ulcers  memiliki  384\n",
            "haemangioma  memiliki  6\n",
            "malignant-wound-images  memiliki  9\n",
            "surgical  memiliki  420\n",
            "trauma  memiliki  93\n"
          ]
        }
      ]
    },
    {
      "cell_type": "code",
      "source": [
        "!mv \"/content/Dataset_img_final/pilonidal-sinus\" \"/content/content\"\n",
        "!mv \"/content/Dataset_img_final/haemangioma\" \"/content/content\"\n",
        "!mv \"/content/Dataset_img_final/epidermolysis-bullosa\" \"/content/content\"\n",
        "!mv \"/content/Dataset_img_final/extravasation-wound-images\" \"/content/content\"\n",
        "!mv \"/content/Dataset_img_final/malignant-wound-images\" \"/content/content\"\n",
        "!mv \"/content/Dataset_img_final/abdominal-wounds\" \"/content/content\"\n",
        "!mv \"/content/Dataset_img_final/meningitis\" \"/content/content\"\n",
        "!mv \"/content/Dataset_img_final/toes\" \"/content/content\"\n",
        "!mv \"/content/Dataset_img_final/miscellaneous\" \"/content/content\"\n",
        "!mv \"/content/Dataset_img_final/skin tears\" \"/content/content\"\n",
        "!mv \"/content/Dataset_img_final/trauma\" \"/content/content\"\n",
        "!mv \"/content/Dataset_img_final/orthopaedic wounds\" \"/content/content\"\n",
        "!mv \"/content/Dataset_img_final/leg-ulcer-images\" \"/content/content\"\n",
        "!mv \"/content/Dataset_img_final/normal\" \"/content/content\"\n",
        "!mv \"/content/Dataset_img_final/DFU\" \"/content/content\""
      ],
      "metadata": {
        "id": "IsM5YLzRX0Hp"
      },
      "execution_count": 7,
      "outputs": []
    },
    {
      "cell_type": "code",
      "source": [
        "import splitfolders\n",
        "\n",
        "folder = '/content/Dataset_img_final'\n",
        "\n",
        "splitfolders.ratio(folder, output='/content/Dataset_split',\n",
        "                 seed=42, ratio=(0.8, 0.2),\n",
        "                 group_prefix = None\n",
        "                 )"
      ],
      "metadata": {
        "colab": {
          "base_uri": "https://localhost:8080/"
        },
        "id": "qxdB1hjjYFKO",
        "outputId": "b898896e-87f7-42e4-c94e-c8247d349036"
      },
      "execution_count": 8,
      "outputs": [
        {
          "output_type": "stream",
          "name": "stderr",
          "text": [
            "Copying files: 2528 files [00:00, 6857.84 files/s]\n"
          ]
        }
      ]
    },
    {
      "cell_type": "code",
      "source": [
        "import os \n",
        "\n",
        "dir_i = os.listdir('/content/Dataset_split/train')\n",
        "\n",
        "for i in dir_i:\n",
        "  dir_a = os.path.join('/content/Dataset_split/train', i)\n",
        "  print(i, ' memiliki ', len(os.listdir(dir_a)))"
      ],
      "metadata": {
        "colab": {
          "base_uri": "https://localhost:8080/"
        },
        "id": "vJDYbZGpYW4H",
        "outputId": "f74691bc-d0b4-4511-ac29-33c282c705d2"
      },
      "execution_count": 9,
      "outputs": [
        {
          "output_type": "stream",
          "name": "stdout",
          "text": [
            "pressure ulcer  memiliki  684\n",
            "burns  memiliki  365\n",
            "venous  memiliki  328\n",
            "foot-ulcers  memiliki  307\n",
            "surgical  memiliki  336\n"
          ]
        }
      ]
    },
    {
      "cell_type": "code",
      "source": [
        "import os \n",
        "\n",
        "dir_i = os.listdir('/content/Dataset_split/val')\n",
        "\n",
        "for i in dir_i:\n",
        "  dir_a = os.path.join('/content/Dataset_split/val', i)\n",
        "  print(i, ' memiliki ', len(os.listdir(dir_a)))"
      ],
      "metadata": {
        "colab": {
          "base_uri": "https://localhost:8080/"
        },
        "id": "fS7gnWYHYYIp",
        "outputId": "f20d8296-273a-4a53-c14f-73f35074c410"
      },
      "execution_count": 10,
      "outputs": [
        {
          "output_type": "stream",
          "name": "stdout",
          "text": [
            "pressure ulcer  memiliki  172\n",
            "burns  memiliki  92\n",
            "venous  memiliki  83\n",
            "foot-ulcers  memiliki  77\n",
            "surgical  memiliki  84\n"
          ]
        }
      ]
    },
    {
      "cell_type": "code",
      "source": [
        "import tensorflow as tf\n",
        "from tensorflow.keras.preprocessing.image import ImageDataGenerator\n",
        "\n",
        "train_dir = '/content/Dataset_split/train'\n",
        "val_dir = '/content/Dataset_split/val'\n",
        "\n",
        "train_datagen = ImageDataGenerator(\n",
        "    rescale=1./255,\n",
        "    shear_range=0.2,\n",
        "    zoom_range=0.2,\n",
        "    rotation_range=20,\n",
        "    horizontal_flip=True,\n",
        "    fill_mode='nearest',\n",
        ")\n",
        "\n",
        "val_datagen = ImageDataGenerator(\n",
        "    rescale=1./255,\n",
        ")"
      ],
      "metadata": {
        "id": "lUGHuEg5YZ0c"
      },
      "execution_count": 11,
      "outputs": []
    },
    {
      "cell_type": "code",
      "source": [
        "import tensorflow as tf\n",
        "import urllib.request\n",
        "from keras_preprocessing.image import ImageDataGenerator\n",
        "from tensorflow.keras.optimizers import RMSprop\n",
        "from tensorflow.keras import layers\n",
        "from tensorflow.keras import Model\n",
        "from tensorflow.keras.applications.inception_v3 import InceptionV3\n",
        "\n",
        "pre_trained_model = InceptionV3(input_shape=(150,150,3),\n",
        "                                    include_top=False,\n",
        "                                    weights='imagenet')\n",
        "\n",
        "pre_trained_model.summary()"
      ],
      "metadata": {
        "id": "Y9mEJS39Yc3j"
      },
      "execution_count": null,
      "outputs": []
    },
    {
      "cell_type": "code",
      "source": [
        "for layer in pre_trained_model.layers:\n",
        "  layer.trainable = False\n",
        "\n",
        "last_layer = pre_trained_model.get_layer('mixed5')\n",
        "last_output = last_layer.output\n",
        "x = layers.Flatten()(last_output)\n",
        "x = layers.Dense(1024, activation='relu')(x)\n",
        "x = layers.Dropout(0.5)(x)\n",
        "x = layers.Dense(5, activation='softmax')(x)\n",
        "\n",
        "train_generator = train_datagen.flow_from_directory(\n",
        "    train_dir,\n",
        "    target_size=(150, 150),\n",
        "    batch_size=32,\n",
        "    class_mode='categorical',\n",
        "    ) \n",
        "validation_generator = train_datagen.flow_from_directory(\n",
        "    val_dir, \n",
        "    target_size=(150, 150),\n",
        "    batch_size=32,\n",
        "    class_mode='categorical',\n",
        "    )\n",
        "\n",
        "callbacks = tf.keras.callbacks.EarlyStopping(monitor='val_acc', patience=20, restore_best_weights=True)\n",
        "model_2 = Model(pre_trained_model.input, x)\n",
        "model_2.compile(optimizer=tf.optimizers.Adam(learning_rate=0.001),\n",
        "                  loss='categorical_crossentropy',\n",
        "                  metrics=['acc'])"
      ],
      "metadata": {
        "colab": {
          "base_uri": "https://localhost:8080/"
        },
        "id": "s0myYo--YfPy",
        "outputId": "85a5255d-2e45-454f-f16f-6ec190aa7e66"
      },
      "execution_count": 13,
      "outputs": [
        {
          "output_type": "stream",
          "name": "stdout",
          "text": [
            "Found 2020 images belonging to 5 classes.\n",
            "Found 508 images belonging to 5 classes.\n"
          ]
        }
      ]
    },
    {
      "cell_type": "code",
      "source": [
        "from keras.callbacks import ModelCheckpoint\n",
        "mc = ModelCheckpoint('best_model_1.h5', monitor='val_acc', mode='max', verbose=1, save_best_only=True)"
      ],
      "metadata": {
        "id": "W4CTo2gM4Ofv"
      },
      "execution_count": 14,
      "outputs": []
    },
    {
      "cell_type": "code",
      "source": [
        "history = model_2.fit(train_generator,\n",
        "            steps_per_epoch= 2020/32,\n",
        "            validation_steps= 508/32,\n",
        "            epochs=100,\n",
        "            validation_data=validation_generator,\n",
        "            verbose=1,\n",
        "            callbacks=[callbacks,mc]\n",
        "            )\n"
      ],
      "metadata": {
        "colab": {
          "base_uri": "https://localhost:8080/"
        },
        "id": "puD8vzpDYg4n",
        "outputId": "66217b3e-1d6a-4524-b593-6ac18011ee87"
      },
      "execution_count": 15,
      "outputs": [
        {
          "output_type": "stream",
          "name": "stdout",
          "text": [
            "Epoch 1/100\n",
            "64/63 [==============================] - ETA: 0s - loss: 6.9533 - acc: 0.4475\n",
            "Epoch 1: val_acc improved from -inf to 0.65748, saving model to best_model_1.h5\n",
            "63/63 [==============================] - 42s 451ms/step - loss: 6.9533 - acc: 0.4475 - val_loss: 0.9626 - val_acc: 0.6575\n",
            "Epoch 2/100\n",
            "64/63 [==============================] - ETA: 0s - loss: 0.9764 - acc: 0.6366\n",
            "Epoch 2: val_acc improved from 0.65748 to 0.74016, saving model to best_model_1.h5\n",
            "63/63 [==============================] - 27s 421ms/step - loss: 0.9764 - acc: 0.6366 - val_loss: 0.8071 - val_acc: 0.7402\n",
            "Epoch 3/100\n",
            "64/63 [==============================] - ETA: 0s - loss: 0.8316 - acc: 0.6936\n",
            "Epoch 3: val_acc improved from 0.74016 to 0.75394, saving model to best_model_1.h5\n",
            "63/63 [==============================] - 27s 422ms/step - loss: 0.8316 - acc: 0.6936 - val_loss: 0.7331 - val_acc: 0.7539\n",
            "Epoch 4/100\n",
            "64/63 [==============================] - ETA: 0s - loss: 0.7841 - acc: 0.7183\n",
            "Epoch 4: val_acc did not improve from 0.75394\n",
            "63/63 [==============================] - 24s 386ms/step - loss: 0.7841 - acc: 0.7183 - val_loss: 0.7453 - val_acc: 0.7264\n",
            "Epoch 5/100\n",
            "64/63 [==============================] - ETA: 0s - loss: 0.7252 - acc: 0.7376\n",
            "Epoch 5: val_acc did not improve from 0.75394\n",
            "63/63 [==============================] - 25s 393ms/step - loss: 0.7252 - acc: 0.7376 - val_loss: 0.7320 - val_acc: 0.7303\n",
            "Epoch 6/100\n",
            "64/63 [==============================] - ETA: 0s - loss: 0.6465 - acc: 0.7624\n",
            "Epoch 6: val_acc did not improve from 0.75394\n",
            "63/63 [==============================] - 24s 389ms/step - loss: 0.6465 - acc: 0.7624 - val_loss: 0.8164 - val_acc: 0.7028\n",
            "Epoch 7/100\n",
            "64/63 [==============================] - ETA: 0s - loss: 0.6186 - acc: 0.7718\n",
            "Epoch 7: val_acc improved from 0.75394 to 0.80315, saving model to best_model_1.h5\n",
            "63/63 [==============================] - 26s 419ms/step - loss: 0.6186 - acc: 0.7718 - val_loss: 0.5860 - val_acc: 0.8031\n",
            "Epoch 8/100\n",
            "64/63 [==============================] - ETA: 0s - loss: 0.5875 - acc: 0.7812\n",
            "Epoch 8: val_acc did not improve from 0.80315\n",
            "63/63 [==============================] - 26s 418ms/step - loss: 0.5875 - acc: 0.7812 - val_loss: 0.6449 - val_acc: 0.7677\n",
            "Epoch 9/100\n",
            "64/63 [==============================] - ETA: 0s - loss: 0.6020 - acc: 0.7767\n",
            "Epoch 9: val_acc did not improve from 0.80315\n",
            "63/63 [==============================] - 24s 387ms/step - loss: 0.6020 - acc: 0.7767 - val_loss: 0.6055 - val_acc: 0.7717\n",
            "Epoch 10/100\n",
            "64/63 [==============================] - ETA: 0s - loss: 0.6198 - acc: 0.7767\n",
            "Epoch 10: val_acc improved from 0.80315 to 0.81496, saving model to best_model_1.h5\n",
            "63/63 [==============================] - 26s 421ms/step - loss: 0.6198 - acc: 0.7767 - val_loss: 0.5286 - val_acc: 0.8150\n",
            "Epoch 11/100\n",
            "64/63 [==============================] - ETA: 0s - loss: 0.5749 - acc: 0.7817\n",
            "Epoch 11: val_acc did not improve from 0.81496\n",
            "63/63 [==============================] - 25s 393ms/step - loss: 0.5749 - acc: 0.7817 - val_loss: 0.5924 - val_acc: 0.7913\n",
            "Epoch 12/100\n",
            "64/63 [==============================] - ETA: 0s - loss: 0.5232 - acc: 0.8079\n",
            "Epoch 12: val_acc did not improve from 0.81496\n",
            "63/63 [==============================] - 24s 388ms/step - loss: 0.5232 - acc: 0.8079 - val_loss: 0.5690 - val_acc: 0.8031\n",
            "Epoch 13/100\n",
            "64/63 [==============================] - ETA: 0s - loss: 0.4627 - acc: 0.8277\n",
            "Epoch 13: val_acc did not improve from 0.81496\n",
            "63/63 [==============================] - 24s 384ms/step - loss: 0.4627 - acc: 0.8277 - val_loss: 0.5830 - val_acc: 0.7835\n",
            "Epoch 14/100\n",
            "64/63 [==============================] - ETA: 0s - loss: 0.4966 - acc: 0.8139\n",
            "Epoch 14: val_acc improved from 0.81496 to 0.82087, saving model to best_model_1.h5\n",
            "63/63 [==============================] - 26s 412ms/step - loss: 0.4966 - acc: 0.8139 - val_loss: 0.4983 - val_acc: 0.8209\n",
            "Epoch 15/100\n",
            "64/63 [==============================] - ETA: 0s - loss: 0.4706 - acc: 0.8233\n",
            "Epoch 15: val_acc did not improve from 0.82087\n",
            "63/63 [==============================] - 24s 381ms/step - loss: 0.4706 - acc: 0.8233 - val_loss: 0.5322 - val_acc: 0.8071\n",
            "Epoch 16/100\n",
            "64/63 [==============================] - ETA: 0s - loss: 0.4520 - acc: 0.8381\n",
            "Epoch 16: val_acc did not improve from 0.82087\n",
            "63/63 [==============================] - 24s 382ms/step - loss: 0.4520 - acc: 0.8381 - val_loss: 0.6070 - val_acc: 0.7933\n",
            "Epoch 17/100\n",
            "64/63 [==============================] - ETA: 0s - loss: 0.4259 - acc: 0.8450\n",
            "Epoch 17: val_acc did not improve from 0.82087\n",
            "63/63 [==============================] - 24s 380ms/step - loss: 0.4259 - acc: 0.8450 - val_loss: 0.5853 - val_acc: 0.7835\n",
            "Epoch 18/100\n",
            "64/63 [==============================] - ETA: 0s - loss: 0.4411 - acc: 0.8277\n",
            "Epoch 18: val_acc did not improve from 0.82087\n",
            "63/63 [==============================] - 24s 379ms/step - loss: 0.4411 - acc: 0.8277 - val_loss: 0.5554 - val_acc: 0.8130\n",
            "Epoch 19/100\n",
            "64/63 [==============================] - ETA: 0s - loss: 0.4307 - acc: 0.8441\n",
            "Epoch 19: val_acc improved from 0.82087 to 0.83268, saving model to best_model_1.h5\n",
            "63/63 [==============================] - 26s 407ms/step - loss: 0.4307 - acc: 0.8441 - val_loss: 0.4780 - val_acc: 0.8327\n",
            "Epoch 20/100\n",
            "64/63 [==============================] - ETA: 0s - loss: 0.4500 - acc: 0.8243\n",
            "Epoch 20: val_acc did not improve from 0.83268\n",
            "63/63 [==============================] - 24s 383ms/step - loss: 0.4500 - acc: 0.8243 - val_loss: 0.4594 - val_acc: 0.8287\n",
            "Epoch 21/100\n",
            "64/63 [==============================] - ETA: 0s - loss: 0.3769 - acc: 0.8564\n",
            "Epoch 21: val_acc did not improve from 0.83268\n",
            "63/63 [==============================] - 26s 414ms/step - loss: 0.3769 - acc: 0.8564 - val_loss: 0.5058 - val_acc: 0.8189\n",
            "Epoch 22/100\n",
            "64/63 [==============================] - ETA: 0s - loss: 0.3602 - acc: 0.8653\n",
            "Epoch 22: val_acc did not improve from 0.83268\n",
            "63/63 [==============================] - 24s 386ms/step - loss: 0.3602 - acc: 0.8653 - val_loss: 0.5802 - val_acc: 0.8091\n",
            "Epoch 23/100\n",
            "64/63 [==============================] - ETA: 0s - loss: 0.3566 - acc: 0.8693\n",
            "Epoch 23: val_acc improved from 0.83268 to 0.84449, saving model to best_model_1.h5\n",
            "63/63 [==============================] - 25s 400ms/step - loss: 0.3566 - acc: 0.8693 - val_loss: 0.4930 - val_acc: 0.8445\n",
            "Epoch 24/100\n",
            "64/63 [==============================] - ETA: 0s - loss: 0.3686 - acc: 0.8629\n",
            "Epoch 24: val_acc did not improve from 0.84449\n",
            "63/63 [==============================] - 24s 383ms/step - loss: 0.3686 - acc: 0.8629 - val_loss: 0.4702 - val_acc: 0.8248\n",
            "Epoch 25/100\n",
            "64/63 [==============================] - ETA: 0s - loss: 0.3756 - acc: 0.8693\n",
            "Epoch 25: val_acc did not improve from 0.84449\n",
            "63/63 [==============================] - 24s 377ms/step - loss: 0.3756 - acc: 0.8693 - val_loss: 0.4779 - val_acc: 0.8248\n",
            "Epoch 26/100\n",
            "64/63 [==============================] - ETA: 0s - loss: 0.3342 - acc: 0.8718\n",
            "Epoch 26: val_acc improved from 0.84449 to 0.84843, saving model to best_model_1.h5\n",
            "63/63 [==============================] - 25s 405ms/step - loss: 0.3342 - acc: 0.8718 - val_loss: 0.4591 - val_acc: 0.8484\n",
            "Epoch 27/100\n",
            "64/63 [==============================] - ETA: 0s - loss: 0.3505 - acc: 0.8743\n",
            "Epoch 27: val_acc did not improve from 0.84843\n",
            "63/63 [==============================] - 24s 382ms/step - loss: 0.3505 - acc: 0.8743 - val_loss: 0.5045 - val_acc: 0.8287\n",
            "Epoch 28/100\n",
            "64/63 [==============================] - ETA: 0s - loss: 0.3229 - acc: 0.8861\n",
            "Epoch 28: val_acc did not improve from 0.84843\n",
            "63/63 [==============================] - 24s 386ms/step - loss: 0.3229 - acc: 0.8861 - val_loss: 0.4830 - val_acc: 0.8484\n",
            "Epoch 29/100\n",
            "64/63 [==============================] - ETA: 0s - loss: 0.3436 - acc: 0.8639\n",
            "Epoch 29: val_acc did not improve from 0.84843\n",
            "63/63 [==============================] - 24s 380ms/step - loss: 0.3436 - acc: 0.8639 - val_loss: 0.4845 - val_acc: 0.8366\n",
            "Epoch 30/100\n",
            "64/63 [==============================] - ETA: 0s - loss: 0.4028 - acc: 0.8421\n",
            "Epoch 30: val_acc did not improve from 0.84843\n",
            "63/63 [==============================] - 24s 382ms/step - loss: 0.4028 - acc: 0.8421 - val_loss: 0.6324 - val_acc: 0.7992\n",
            "Epoch 31/100\n",
            "64/63 [==============================] - ETA: 0s - loss: 0.4150 - acc: 0.8391\n",
            "Epoch 31: val_acc did not improve from 0.84843\n",
            "63/63 [==============================] - 24s 387ms/step - loss: 0.4150 - acc: 0.8391 - val_loss: 0.5539 - val_acc: 0.8169\n",
            "Epoch 32/100\n",
            "64/63 [==============================] - ETA: 0s - loss: 0.3914 - acc: 0.8530\n",
            "Epoch 32: val_acc did not improve from 0.84843\n",
            "63/63 [==============================] - 24s 385ms/step - loss: 0.3914 - acc: 0.8530 - val_loss: 0.5283 - val_acc: 0.8189\n",
            "Epoch 33/100\n",
            "64/63 [==============================] - ETA: 0s - loss: 0.3908 - acc: 0.8495\n",
            "Epoch 33: val_acc did not improve from 0.84843\n",
            "63/63 [==============================] - 24s 381ms/step - loss: 0.3908 - acc: 0.8495 - val_loss: 0.5088 - val_acc: 0.8228\n",
            "Epoch 34/100\n",
            "64/63 [==============================] - ETA: 0s - loss: 0.3705 - acc: 0.8574\n",
            "Epoch 34: val_acc did not improve from 0.84843\n",
            "63/63 [==============================] - 24s 384ms/step - loss: 0.3705 - acc: 0.8574 - val_loss: 0.6325 - val_acc: 0.7933\n",
            "Epoch 35/100\n",
            "64/63 [==============================] - ETA: 0s - loss: 0.3671 - acc: 0.8609\n",
            "Epoch 35: val_acc improved from 0.84843 to 0.85630, saving model to best_model_1.h5\n",
            "63/63 [==============================] - 28s 442ms/step - loss: 0.3671 - acc: 0.8609 - val_loss: 0.4587 - val_acc: 0.8563\n",
            "Epoch 36/100\n",
            "64/63 [==============================] - ETA: 0s - loss: 0.2987 - acc: 0.8871\n",
            "Epoch 36: val_acc did not improve from 0.85630\n",
            "63/63 [==============================] - 25s 392ms/step - loss: 0.2987 - acc: 0.8871 - val_loss: 0.5124 - val_acc: 0.8327\n",
            "Epoch 37/100\n",
            "64/63 [==============================] - ETA: 0s - loss: 0.3106 - acc: 0.8807\n",
            "Epoch 37: val_acc did not improve from 0.85630\n",
            "63/63 [==============================] - 25s 398ms/step - loss: 0.3106 - acc: 0.8807 - val_loss: 0.5754 - val_acc: 0.8504\n",
            "Epoch 38/100\n",
            "64/63 [==============================] - ETA: 0s - loss: 0.3158 - acc: 0.8851\n",
            "Epoch 38: val_acc did not improve from 0.85630\n",
            "63/63 [==============================] - 25s 392ms/step - loss: 0.3158 - acc: 0.8851 - val_loss: 0.5282 - val_acc: 0.8189\n",
            "Epoch 39/100\n",
            "64/63 [==============================] - ETA: 0s - loss: 0.2623 - acc: 0.9015\n",
            "Epoch 39: val_acc did not improve from 0.85630\n",
            "63/63 [==============================] - 24s 389ms/step - loss: 0.2623 - acc: 0.9015 - val_loss: 0.4443 - val_acc: 0.8445\n",
            "Epoch 40/100\n",
            "64/63 [==============================] - ETA: 0s - loss: 0.2713 - acc: 0.8990\n",
            "Epoch 40: val_acc did not improve from 0.85630\n",
            "63/63 [==============================] - 25s 395ms/step - loss: 0.2713 - acc: 0.8990 - val_loss: 0.6731 - val_acc: 0.8189\n",
            "Epoch 41/100\n",
            "64/63 [==============================] - ETA: 0s - loss: 0.2783 - acc: 0.8955\n",
            "Epoch 41: val_acc did not improve from 0.85630\n",
            "63/63 [==============================] - 25s 394ms/step - loss: 0.2783 - acc: 0.8955 - val_loss: 0.5392 - val_acc: 0.8406\n",
            "Epoch 42/100\n",
            "64/63 [==============================] - ETA: 0s - loss: 0.2450 - acc: 0.9074\n",
            "Epoch 42: val_acc did not improve from 0.85630\n",
            "63/63 [==============================] - 25s 392ms/step - loss: 0.2450 - acc: 0.9074 - val_loss: 0.6277 - val_acc: 0.8130\n",
            "Epoch 43/100\n",
            "64/63 [==============================] - ETA: 0s - loss: 0.2894 - acc: 0.8936\n",
            "Epoch 43: val_acc did not improve from 0.85630\n",
            "63/63 [==============================] - 24s 386ms/step - loss: 0.2894 - acc: 0.8936 - val_loss: 0.4197 - val_acc: 0.8524\n",
            "Epoch 44/100\n",
            "64/63 [==============================] - ETA: 0s - loss: 0.3184 - acc: 0.8832\n",
            "Epoch 44: val_acc did not improve from 0.85630\n",
            "63/63 [==============================] - 25s 393ms/step - loss: 0.3184 - acc: 0.8832 - val_loss: 0.5817 - val_acc: 0.8346\n",
            "Epoch 45/100\n",
            "64/63 [==============================] - ETA: 0s - loss: 0.2890 - acc: 0.8881\n",
            "Epoch 45: val_acc did not improve from 0.85630\n",
            "63/63 [==============================] - 25s 394ms/step - loss: 0.2890 - acc: 0.8881 - val_loss: 0.5181 - val_acc: 0.8307\n",
            "Epoch 46/100\n",
            "64/63 [==============================] - ETA: 0s - loss: 0.3495 - acc: 0.8683\n",
            "Epoch 46: val_acc did not improve from 0.85630\n",
            "63/63 [==============================] - 25s 397ms/step - loss: 0.3495 - acc: 0.8683 - val_loss: 0.5215 - val_acc: 0.8504\n",
            "Epoch 47/100\n",
            "64/63 [==============================] - ETA: 0s - loss: 0.3102 - acc: 0.8847\n",
            "Epoch 47: val_acc did not improve from 0.85630\n",
            "63/63 [==============================] - 25s 398ms/step - loss: 0.3102 - acc: 0.8847 - val_loss: 0.5842 - val_acc: 0.8386\n",
            "Epoch 48/100\n",
            "64/63 [==============================] - ETA: 0s - loss: 0.2934 - acc: 0.8936\n",
            "Epoch 48: val_acc did not improve from 0.85630\n",
            "63/63 [==============================] - 26s 416ms/step - loss: 0.2934 - acc: 0.8936 - val_loss: 0.6081 - val_acc: 0.8346\n",
            "Epoch 49/100\n",
            "64/63 [==============================] - ETA: 0s - loss: 0.2963 - acc: 0.8965\n",
            "Epoch 49: val_acc did not improve from 0.85630\n",
            "63/63 [==============================] - 25s 396ms/step - loss: 0.2963 - acc: 0.8965 - val_loss: 0.5057 - val_acc: 0.8346\n",
            "Epoch 50/100\n",
            "64/63 [==============================] - ETA: 0s - loss: 0.3065 - acc: 0.8772\n",
            "Epoch 50: val_acc did not improve from 0.85630\n",
            "63/63 [==============================] - 25s 394ms/step - loss: 0.3065 - acc: 0.8772 - val_loss: 0.6281 - val_acc: 0.8209\n",
            "Epoch 51/100\n",
            "64/63 [==============================] - ETA: 0s - loss: 0.3368 - acc: 0.8683\n",
            "Epoch 51: val_acc did not improve from 0.85630\n",
            "63/63 [==============================] - 25s 398ms/step - loss: 0.3368 - acc: 0.8683 - val_loss: 0.4193 - val_acc: 0.8445\n",
            "Epoch 52/100\n",
            "64/63 [==============================] - ETA: 0s - loss: 0.2862 - acc: 0.8946\n",
            "Epoch 52: val_acc did not improve from 0.85630\n",
            "63/63 [==============================] - 25s 397ms/step - loss: 0.2862 - acc: 0.8946 - val_loss: 0.5448 - val_acc: 0.8307\n",
            "Epoch 53/100\n",
            "64/63 [==============================] - ETA: 0s - loss: 0.3154 - acc: 0.8817\n",
            "Epoch 53: val_acc did not improve from 0.85630\n",
            "63/63 [==============================] - 25s 398ms/step - loss: 0.3154 - acc: 0.8817 - val_loss: 0.4812 - val_acc: 0.8327\n",
            "Epoch 54/100\n",
            "64/63 [==============================] - ETA: 0s - loss: 0.2775 - acc: 0.8955\n",
            "Epoch 54: val_acc did not improve from 0.85630\n",
            "63/63 [==============================] - 25s 397ms/step - loss: 0.2775 - acc: 0.8955 - val_loss: 0.6233 - val_acc: 0.8287\n",
            "Epoch 55/100\n",
            "64/63 [==============================] - ETA: 0s - loss: 0.2750 - acc: 0.8955\n",
            "Epoch 55: val_acc did not improve from 0.85630\n",
            "63/63 [==============================] - 25s 392ms/step - loss: 0.2750 - acc: 0.8955 - val_loss: 0.4700 - val_acc: 0.8504\n"
          ]
        }
      ]
    },
    {
      "cell_type": "code",
      "source": [
        "import matplotlib.pyplot as plt\n",
        "\n",
        "# Plot the model results\n",
        "acc = history.history['acc']\n",
        "val_acc = history.history['val_acc']\n",
        "loss = history.history['loss']\n",
        "val_loss = history.history['val_loss']\n",
        "\n",
        "epochs = range(len(acc))\n",
        "\n",
        "plt.plot(epochs, acc, 'r', label='Training accuracy')\n",
        "plt.plot(epochs, val_acc, 'b', label='Validation accuracy')\n",
        "plt.title('Training and validation accuracy')\n",
        "\n",
        "plt.figure()\n",
        "\n",
        "plt.plot(epochs, loss, 'r', label='Training Loss')\n",
        "plt.plot(epochs, val_loss, 'b', label='Validation Loss')\n",
        "plt.title('Training and validation loss')\n",
        "plt.legend()\n",
        "\n",
        "plt.show()"
      ],
      "metadata": {
        "colab": {
          "base_uri": "https://localhost:8080/",
          "height": 545
        },
        "id": "vf_41-UZ7zE3",
        "outputId": "79383f4f-3b9d-4b74-8167-74972d942576"
      },
      "execution_count": 16,
      "outputs": [
        {
          "output_type": "display_data",
          "data": {
            "text/plain": [
              "<Figure size 432x288 with 1 Axes>"
            ],
            "image/png": "[encoded data removed]"
          },
          "metadata": {
            "needs_background": "light"
          }
        },
        {
          "output_type": "display_data",
          "data": {
            "text/plain": [
              "<Figure size 432x288 with 1 Axes>"
            ],
            "image/png": "[encoded data removed]"
          },
          "metadata": {
            "needs_background": "light"
          }
        }
      ]
    }
  ]
}