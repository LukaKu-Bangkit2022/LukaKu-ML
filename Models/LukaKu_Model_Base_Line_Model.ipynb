{
  "nbformat": 4,
  "nbformat_minor": 0,
  "metadata": {
    "colab": {
      "name": "LukaKu_Model_Base Line Model.ipynb",
      "provenance": []
    },
    "kernelspec": {
      "name": "python3",
      "display_name": "Python 3"
    },
    "language_info": {
      "name": "python"
    },
    "accelerator": "GPU"
  },
  "cells": [
    {
      "cell_type": "code",
      "execution_count": null,
      "metadata": {
        "id": "Sc3bDyHdXTbS"
      },
      "outputs": [],
      "source": [
        "!nvidia-smi"
      ]
    },
    {
      "cell_type": "code",
      "source": [
        "from google.colab import drive\n",
        "drive.mount('/content/drive')"
      ],
      "metadata": {
        "colab": {
          "base_uri": "https://localhost:8080/"
        },
        "id": "w5LZLQnzXlKF",
        "outputId": "74b1f4d2-b872-4206-9540-138cb098fb3c"
      },
      "execution_count": 2,
      "outputs": [
        {
          "output_type": "stream",
          "name": "stdout",
          "text": [
            "Mounted at /content/drive\n"
          ]
        }
      ]
    },
    {
      "cell_type": "code",
      "source": [
        "!unzip '/content/drive/MyDrive/Dataset_capstone_final.zip'\n",
        "#!unzip '/content/drive/MyDrive/Dataset_img_final4.zip'"
      ],
      "metadata": {
        "id": "hdCfafpYXqo1"
      },
      "execution_count": null,
      "outputs": []
    },
    {
      "cell_type": "code",
      "source": [
        "!pip install split-folders"
      ],
      "metadata": {
        "colab": {
          "base_uri": "https://localhost:8080/"
        },
        "id": "cSQD8tKHXshi",
        "outputId": "1c94838e-16b3-451e-df66-ae43f1f91ac3"
      },
      "execution_count": 4,
      "outputs": [
        {
          "output_type": "stream",
          "name": "stdout",
          "text": [
            "Looking in indexes: https://pypi.org/simple, https://us-python.pkg.dev/colab-wheels/public/simple/\n",
            "Collecting split-folders\n",
            "  Downloading split_folders-0.5.1-py3-none-any.whl (8.4 kB)\n",
            "Installing collected packages: split-folders\n",
            "Successfully installed split-folders-0.5.1\n"
          ]
        }
      ]
    },
    {
      "cell_type": "code",
      "source": [
        "import os \n",
        "\n",
        "dir_i = os.listdir('/content/Dataset_img_final')\n",
        "\n",
        "for i in dir_i:\n",
        "  dir_a = os.path.join('/content/Dataset_img_final', i)\n",
        "  print(i, ' memiliki ', len(os.listdir(dir_a)))"
      ],
      "metadata": {
        "colab": {
          "base_uri": "https://localhost:8080/"
        },
        "id": "tNBa_6PGXwA1",
        "outputId": "f79fd1fa-d69c-4a6d-93f4-6eeb4b1838fa"
      },
      "execution_count": 5,
      "outputs": [
        {
          "output_type": "stream",
          "name": "stdout",
          "text": [
            "leg-ulcer-images  memiliki  134\n",
            "pressure ulcer  memiliki  856\n",
            "skin tears  memiliki  54\n",
            "toes  memiliki  35\n",
            "DFU  memiliki  673\n",
            "normal  memiliki  300\n",
            "miscellaneous  memiliki  56\n",
            "extravasation-wound-images  memiliki  20\n",
            "orthopaedic wounds  memiliki  49\n",
            "burns  memiliki  457\n",
            "epidermolysis-bullosa  memiliki  5\n",
            "pilonidal-sinus  memiliki  3\n",
            "abdominal-wounds  memiliki  13\n",
            "meningitis  memiliki  24\n",
            "venous  memiliki  411\n",
            "foot-ulcers  memiliki  384\n",
            "haemangioma  memiliki  6\n",
            "malignant-wound-images  memiliki  9\n",
            "surgical  memiliki  420\n",
            "trauma  memiliki  93\n"
          ]
        }
      ]
    },
    {
      "cell_type": "code",
      "source": [
        "!mv \"/content/Dataset_img_final/pilonidal-sinus\" \"/content/content\"\n",
        "!mv \"/content/Dataset_img_final/haemangioma\" \"/content/content\"\n",
        "!mv \"/content/Dataset_img_final/epidermolysis-bullosa\" \"/content/content\"\n",
        "!mv \"/content/Dataset_img_final/extravasation-wound-images\" \"/content/content\"\n",
        "!mv \"/content/Dataset_img_final/malignant-wound-images\" \"/content/content\"\n",
        "!mv \"/content/Dataset_img_final/abdominal-wounds\" \"/content/content\"\n",
        "!mv \"/content/Dataset_img_final/meningitis\" \"/content/content\"\n",
        "!mv \"/content/Dataset_img_final/toes\" \"/content/content\"\n",
        "!mv \"/content/Dataset_img_final/miscellaneous\" \"/content/content\"\n",
        "!mv \"/content/Dataset_img_final/skin tears\" \"/content/content\"\n",
        "!mv \"/content/Dataset_img_final/trauma\" \"/content/content\"\n",
        "!mv \"/content/Dataset_img_final/orthopaedic wounds\" \"/content/content\"\n",
        "!mv \"/content/Dataset_img_final/leg-ulcer-images\" \"/content/content\"\n",
        "!mv \"/content/Dataset_img_final/normal\" \"/content/content\"\n",
        "!mv \"/content/Dataset_img_final/DFU\" \"/content/content\""
      ],
      "metadata": {
        "id": "IsM5YLzRX0Hp"
      },
      "execution_count": 6,
      "outputs": []
    },
    {
      "cell_type": "code",
      "source": [
        "import splitfolders\n",
        "\n",
        "folder = '/content/Dataset_img_final'\n",
        "\n",
        "splitfolders.ratio(folder, output='/content/Dataset_split',\n",
        "                 seed=42, ratio=(0.8, 0.2),\n",
        "                 group_prefix = None\n",
        "                 )"
      ],
      "metadata": {
        "colab": {
          "base_uri": "https://localhost:8080/"
        },
        "id": "qxdB1hjjYFKO",
        "outputId": "1b655339-5257-4da4-9491-a8d147a06ccf"
      },
      "execution_count": 7,
      "outputs": [
        {
          "output_type": "stream",
          "name": "stderr",
          "text": [
            "Copying files: 2528 files [00:00, 7331.59 files/s]\n"
          ]
        }
      ]
    },
    {
      "cell_type": "code",
      "source": [
        "import os \n",
        "\n",
        "dir_i = os.listdir('/content/Dataset_split/train')\n",
        "\n",
        "for i in dir_i:\n",
        "  dir_a = os.path.join('/content/Dataset_split/train', i)\n",
        "  print(i, ' memiliki ', len(os.listdir(dir_a)))"
      ],
      "metadata": {
        "colab": {
          "base_uri": "https://localhost:8080/"
        },
        "id": "vJDYbZGpYW4H",
        "outputId": "e5f9e5bd-b612-42f3-c969-c11982b3db57"
      },
      "execution_count": 8,
      "outputs": [
        {
          "output_type": "stream",
          "name": "stdout",
          "text": [
            "pressure ulcer  memiliki  684\n",
            "burns  memiliki  365\n",
            "venous  memiliki  328\n",
            "foot-ulcers  memiliki  307\n",
            "surgical  memiliki  336\n"
          ]
        }
      ]
    },
    {
      "cell_type": "code",
      "source": [
        "import os \n",
        "\n",
        "dir_i = os.listdir('/content/Dataset_split/val')\n",
        "\n",
        "for i in dir_i:\n",
        "  dir_a = os.path.join('/content/Dataset_split/val', i)\n",
        "  print(i, ' memiliki ', len(os.listdir(dir_a)))"
      ],
      "metadata": {
        "colab": {
          "base_uri": "https://localhost:8080/"
        },
        "id": "fS7gnWYHYYIp",
        "outputId": "09642603-9836-487b-83ab-b79a820cb425"
      },
      "execution_count": 9,
      "outputs": [
        {
          "output_type": "stream",
          "name": "stdout",
          "text": [
            "pressure ulcer  memiliki  172\n",
            "burns  memiliki  92\n",
            "venous  memiliki  83\n",
            "foot-ulcers  memiliki  77\n",
            "surgical  memiliki  84\n"
          ]
        }
      ]
    },
    {
      "cell_type": "code",
      "source": [
        "import tensorflow as tf\n",
        "from tensorflow.keras.preprocessing.image import ImageDataGenerator\n",
        "\n",
        "train_dir = '/content/Dataset_split/train'\n",
        "val_dir = '/content/Dataset_split/val'\n",
        "\n",
        "train_datagen = ImageDataGenerator(\n",
        "    rescale=1./255,\n",
        "    shear_range=0.2,\n",
        "    zoom_range=0.2,\n",
        "    rotation_range=20,\n",
        "    horizontal_flip=True,\n",
        "    fill_mode='nearest',\n",
        ")\n",
        "\n",
        "val_datagen = ImageDataGenerator(\n",
        "    rescale=1./255,\n",
        ")"
      ],
      "metadata": {
        "id": "lUGHuEg5YZ0c"
      },
      "execution_count": 10,
      "outputs": []
    },
    {
      "cell_type": "code",
      "source": [
        "train_generator = train_datagen.flow_from_directory(\n",
        "    train_dir,\n",
        "    target_size=(150, 150),\n",
        "    batch_size=32,\n",
        "    class_mode='categorical',\n",
        "    ) \n",
        "validation_generator = train_datagen.flow_from_directory(\n",
        "    val_dir, \n",
        "    target_size=(150, 150),\n",
        "    batch_size=32,\n",
        "    class_mode='categorical',\n",
        "    )\n"
      ],
      "metadata": {
        "colab": {
          "base_uri": "https://localhost:8080/"
        },
        "id": "1fUPrTI4QcD1",
        "outputId": "db0e270c-41b5-43e5-9adf-5e2979346478"
      },
      "execution_count": 11,
      "outputs": [
        {
          "output_type": "stream",
          "name": "stdout",
          "text": [
            "Found 2020 images belonging to 5 classes.\n",
            "Found 508 images belonging to 5 classes.\n"
          ]
        }
      ]
    },
    {
      "cell_type": "code",
      "source": [
        "model = tf.keras.models.Sequential([\n",
        "    tf.keras.layers.Conv2D(32, (3,3), padding='same', activation='relu', input_shape=(150,150,3)),\n",
        "    tf.keras.layers.MaxPooling2D(2,2),\n",
        "    tf.keras.layers.Dropout(0.25),\n",
        "    tf.keras.layers.Conv2D(64, (3,3), padding='same', activation='relu'),\n",
        "    tf.keras.layers.MaxPooling2D(2,2),\n",
        "    tf.keras.layers.Dropout(0.25),\n",
        "    tf.keras.layers.Conv2D(64, (3,3), padding='same', activation='relu'),\n",
        "    tf.keras.layers.MaxPooling2D(2,2),\n",
        "    tf.keras.layers.Dropout(0.25),\n",
        "    tf.keras.layers.Conv2D(128, (3,3), padding='same', activation='relu'),\n",
        "    tf.keras.layers.MaxPooling2D(2,2),\n",
        "    tf.keras.layers.Dropout(0.25),\n",
        "    tf.keras.layers.Conv2D(128, (3,3), padding='same', activation='relu'),\n",
        "    tf.keras.layers.MaxPooling2D(2,2),\n",
        "    tf.keras.layers.Dropout(0.25),\n",
        "    tf.keras.layers.Conv2D(256, (3,3), padding='same',  activation='relu'),\n",
        "    tf.keras.layers.MaxPooling2D(2,2),\n",
        "    tf.keras.layers.Dropout(0.25),\n",
        "    tf.keras.layers.Conv2D(256, (3,3), padding='same',  activation='relu'),\n",
        "    tf.keras.layers.MaxPooling2D(2,2),\n",
        "    tf.keras.layers.Dropout(0.25),\n",
        "    tf.keras.layers.Flatten(),\n",
        "    tf.keras.layers.Dense(128, activation='relu'),\n",
        "    tf.keras.layers.Dropout(0.2),\n",
        "    tf.keras.layers.Dense(64, activation='relu'),\n",
        "    tf.keras.layers.Dropout(0.2),\n",
        "    tf.keras.layers.Dense(32, activation='relu'),\n",
        "    tf.keras.layers.Dropout(0.2),\n",
        "    tf.keras.layers.Dense(10, activation='relu'),\n",
        "    tf.keras.layers.Dropout(0.2),\n",
        "    tf.keras.layers.Dense(5, activation='softmax')\n",
        "])"
      ],
      "metadata": {
        "id": "GZBDo4tdSoBk"
      },
      "execution_count": 12,
      "outputs": []
    },
    {
      "cell_type": "code",
      "source": [
        "model.summary()"
      ],
      "metadata": {
        "colab": {
          "base_uri": "https://localhost:8080/"
        },
        "id": "Do2IPSf6SsEl",
        "outputId": "4125a8d6-85d0-4e4c-d69b-8c19bd3869cb"
      },
      "execution_count": 13,
      "outputs": [
        {
          "output_type": "stream",
          "name": "stdout",
          "text": [
            "Model: \"sequential\"\n",
            "_________________________________________________________________\n",
            " Layer (type)                Output Shape              Param #   \n",
            "=================================================================\n",
            " conv2d (Conv2D)             (None, 150, 150, 32)      896       \n",
            "                                                                 \n",
            " max_pooling2d (MaxPooling2D  (None, 75, 75, 32)       0         \n",
            " )                                                               \n",
            "                                                                 \n",
            " dropout (Dropout)           (None, 75, 75, 32)        0         \n",
            "                                                                 \n",
            " conv2d_1 (Conv2D)           (None, 75, 75, 64)        18496     \n",
            "                                                                 \n",
            " max_pooling2d_1 (MaxPooling  (None, 37, 37, 64)       0         \n",
            " 2D)                                                             \n",
            "                                                                 \n",
            " dropout_1 (Dropout)         (None, 37, 37, 64)        0         \n",
            "                                                                 \n",
            " conv2d_2 (Conv2D)           (None, 37, 37, 64)        36928     \n",
            "                                                                 \n",
            " max_pooling2d_2 (MaxPooling  (None, 18, 18, 64)       0         \n",
            " 2D)                                                             \n",
            "                                                                 \n",
            " dropout_2 (Dropout)         (None, 18, 18, 64)        0         \n",
            "                                                                 \n",
            " conv2d_3 (Conv2D)           (None, 18, 18, 128)       73856     \n",
            "                                                                 \n",
            " max_pooling2d_3 (MaxPooling  (None, 9, 9, 128)        0         \n",
            " 2D)                                                             \n",
            "                                                                 \n",
            " dropout_3 (Dropout)         (None, 9, 9, 128)         0         \n",
            "                                                                 \n",
            " conv2d_4 (Conv2D)           (None, 9, 9, 128)         147584    \n",
            "                                                                 \n",
            " max_pooling2d_4 (MaxPooling  (None, 4, 4, 128)        0         \n",
            " 2D)                                                             \n",
            "                                                                 \n",
            " dropout_4 (Dropout)         (None, 4, 4, 128)         0         \n",
            "                                                                 \n",
            " conv2d_5 (Conv2D)           (None, 4, 4, 256)         295168    \n",
            "                                                                 \n",
            " max_pooling2d_5 (MaxPooling  (None, 2, 2, 256)        0         \n",
            " 2D)                                                             \n",
            "                                                                 \n",
            " dropout_5 (Dropout)         (None, 2, 2, 256)         0         \n",
            "                                                                 \n",
            " conv2d_6 (Conv2D)           (None, 2, 2, 256)         590080    \n",
            "                                                                 \n",
            " max_pooling2d_6 (MaxPooling  (None, 1, 1, 256)        0         \n",
            " 2D)                                                             \n",
            "                                                                 \n",
            " dropout_6 (Dropout)         (None, 1, 1, 256)         0         \n",
            "                                                                 \n",
            " flatten (Flatten)           (None, 256)               0         \n",
            "                                                                 \n",
            " dense (Dense)               (None, 128)               32896     \n",
            "                                                                 \n",
            " dropout_7 (Dropout)         (None, 128)               0         \n",
            "                                                                 \n",
            " dense_1 (Dense)             (None, 64)                8256      \n",
            "                                                                 \n",
            " dropout_8 (Dropout)         (None, 64)                0         \n",
            "                                                                 \n",
            " dense_2 (Dense)             (None, 32)                2080      \n",
            "                                                                 \n",
            " dropout_9 (Dropout)         (None, 32)                0         \n",
            "                                                                 \n",
            " dense_3 (Dense)             (None, 10)                330       \n",
            "                                                                 \n",
            " dropout_10 (Dropout)        (None, 10)                0         \n",
            "                                                                 \n",
            " dense_4 (Dense)             (None, 5)                 55        \n",
            "                                                                 \n",
            "=================================================================\n",
            "Total params: 1,206,625\n",
            "Trainable params: 1,206,625\n",
            "Non-trainable params: 0\n",
            "_________________________________________________________________\n"
          ]
        }
      ]
    },
    {
      "cell_type": "code",
      "source": [
        "callbacks = tf.keras.callbacks.EarlyStopping(monitor='val_acc', patience=20, restore_best_weights=True)\n",
        "model.compile(optimizer=tf.optimizers.Adam(learning_rate=0.001),\n",
        "                  loss='categorical_crossentropy',\n",
        "                  metrics=['acc'])"
      ],
      "metadata": {
        "id": "XzlHA3J1SW9s"
      },
      "execution_count": 14,
      "outputs": []
    },
    {
      "cell_type": "code",
      "source": [
        "from keras.callbacks import ModelCheckpoint\n",
        "mc = ModelCheckpoint('best_model_1.h5', monitor='val_acc', mode='max', verbose=1, save_best_only=True)"
      ],
      "metadata": {
        "id": "Xp0CpJaiXFIH"
      },
      "execution_count": 15,
      "outputs": []
    },
    {
      "cell_type": "code",
      "source": [
        "history = model.fit(train_generator,\n",
        "                    steps_per_epoch= 2020 // 32,\n",
        "                    validation_data=validation_generator,\n",
        "                    validation_steps= 508 // 32,\n",
        "                    epochs=100,\n",
        "                    callbacks=[callbacks,mc],\n",
        "                    verbose=1\n",
        "                  )"
      ],
      "metadata": {
        "colab": {
          "base_uri": "https://localhost:8080/"
        },
        "id": "nB3n12anTzSq",
        "outputId": "6d3d3b91-7f29-41c7-d5e7-4c08d67f16a7"
      },
      "execution_count": 16,
      "outputs": [
        {
          "output_type": "stream",
          "name": "stdout",
          "text": [
            "Epoch 1/100\n",
            "63/63 [==============================] - ETA: 0s - loss: 1.5989 - acc: 0.2993\n",
            "Epoch 1: val_acc improved from -inf to 0.33958, saving model to best_model_1.h5\n",
            "63/63 [==============================] - 36s 380ms/step - loss: 1.5989 - acc: 0.2993 - val_loss: 1.5830 - val_acc: 0.3396\n",
            "Epoch 2/100\n",
            "63/63 [==============================] - ETA: 0s - loss: 1.5746 - acc: 0.3365\n",
            "Epoch 2: val_acc did not improve from 0.33958\n",
            "63/63 [==============================] - 23s 363ms/step - loss: 1.5746 - acc: 0.3365 - val_loss: 1.5636 - val_acc: 0.3396\n",
            "Epoch 3/100\n",
            "63/63 [==============================] - ETA: 0s - loss: 1.5678 - acc: 0.3360\n",
            "Epoch 3: val_acc improved from 0.33958 to 0.34167, saving model to best_model_1.h5\n",
            "63/63 [==============================] - 22s 353ms/step - loss: 1.5678 - acc: 0.3360 - val_loss: 1.5579 - val_acc: 0.3417\n",
            "Epoch 4/100\n",
            "63/63 [==============================] - ETA: 0s - loss: 1.5613 - acc: 0.3390\n",
            "Epoch 4: val_acc did not improve from 0.34167\n",
            "63/63 [==============================] - 22s 355ms/step - loss: 1.5613 - acc: 0.3390 - val_loss: 1.5502 - val_acc: 0.3396\n",
            "Epoch 5/100\n",
            "63/63 [==============================] - ETA: 0s - loss: 1.5656 - acc: 0.3380\n",
            "Epoch 5: val_acc did not improve from 0.34167\n",
            "63/63 [==============================] - 25s 402ms/step - loss: 1.5656 - acc: 0.3380 - val_loss: 1.5569 - val_acc: 0.3417\n",
            "Epoch 6/100\n",
            "63/63 [==============================] - ETA: 0s - loss: 1.5628 - acc: 0.3385\n",
            "Epoch 6: val_acc improved from 0.34167 to 0.35000, saving model to best_model_1.h5\n",
            "63/63 [==============================] - 22s 358ms/step - loss: 1.5628 - acc: 0.3385 - val_loss: 1.5519 - val_acc: 0.3500\n",
            "Epoch 7/100\n",
            "63/63 [==============================] - ETA: 0s - loss: 1.5605 - acc: 0.3390\n",
            "Epoch 7: val_acc did not improve from 0.35000\n",
            "63/63 [==============================] - 22s 356ms/step - loss: 1.5605 - acc: 0.3390 - val_loss: 1.5607 - val_acc: 0.3313\n",
            "Epoch 8/100\n",
            "63/63 [==============================] - ETA: 0s - loss: 1.5588 - acc: 0.3385\n",
            "Epoch 8: val_acc did not improve from 0.35000\n",
            "63/63 [==============================] - 23s 366ms/step - loss: 1.5588 - acc: 0.3385 - val_loss: 1.5543 - val_acc: 0.3417\n",
            "Epoch 9/100\n",
            "63/63 [==============================] - ETA: 0s - loss: 1.5591 - acc: 0.3375\n",
            "Epoch 9: val_acc did not improve from 0.35000\n",
            "63/63 [==============================] - 22s 357ms/step - loss: 1.5591 - acc: 0.3375 - val_loss: 1.5548 - val_acc: 0.3417\n",
            "Epoch 10/100\n",
            "63/63 [==============================] - ETA: 0s - loss: 1.5596 - acc: 0.3395\n",
            "Epoch 10: val_acc did not improve from 0.35000\n",
            "63/63 [==============================] - 22s 352ms/step - loss: 1.5596 - acc: 0.3395 - val_loss: 1.5496 - val_acc: 0.3479\n",
            "Epoch 11/100\n",
            "63/63 [==============================] - ETA: 0s - loss: 1.5578 - acc: 0.3385\n",
            "Epoch 11: val_acc did not improve from 0.35000\n",
            "63/63 [==============================] - 22s 352ms/step - loss: 1.5578 - acc: 0.3385 - val_loss: 1.5531 - val_acc: 0.3417\n",
            "Epoch 12/100\n",
            "63/63 [==============================] - ETA: 0s - loss: 1.5578 - acc: 0.3400\n",
            "Epoch 12: val_acc did not improve from 0.35000\n",
            "63/63 [==============================] - 22s 353ms/step - loss: 1.5578 - acc: 0.3400 - val_loss: 1.5547 - val_acc: 0.3417\n",
            "Epoch 13/100\n",
            "63/63 [==============================] - ETA: 0s - loss: 1.5558 - acc: 0.3400\n",
            "Epoch 13: val_acc did not improve from 0.35000\n",
            "63/63 [==============================] - 23s 368ms/step - loss: 1.5558 - acc: 0.3400 - val_loss: 1.5525 - val_acc: 0.3417\n",
            "Epoch 14/100\n",
            "63/63 [==============================] - ETA: 0s - loss: 1.5348 - acc: 0.3426\n",
            "Epoch 14: val_acc did not improve from 0.35000\n",
            "63/63 [==============================] - 22s 352ms/step - loss: 1.5348 - acc: 0.3426 - val_loss: 1.5104 - val_acc: 0.3396\n",
            "Epoch 15/100\n",
            "63/63 [==============================] - ETA: 0s - loss: 1.5100 - acc: 0.3496\n",
            "Epoch 15: val_acc improved from 0.35000 to 0.39583, saving model to best_model_1.h5\n",
            "63/63 [==============================] - 22s 354ms/step - loss: 1.5100 - acc: 0.3496 - val_loss: 1.4619 - val_acc: 0.3958\n",
            "Epoch 16/100\n",
            "63/63 [==============================] - ETA: 0s - loss: 1.4678 - acc: 0.3441\n",
            "Epoch 16: val_acc did not improve from 0.39583\n",
            "63/63 [==============================] - 22s 351ms/step - loss: 1.4678 - acc: 0.3441 - val_loss: 1.4445 - val_acc: 0.3438\n",
            "Epoch 17/100\n",
            "63/63 [==============================] - ETA: 0s - loss: 1.4601 - acc: 0.3456\n",
            "Epoch 17: val_acc did not improve from 0.39583\n",
            "63/63 [==============================] - 22s 352ms/step - loss: 1.4601 - acc: 0.3456 - val_loss: 1.4466 - val_acc: 0.3354\n",
            "Epoch 18/100\n",
            "63/63 [==============================] - ETA: 0s - loss: 1.4411 - acc: 0.3431\n",
            "Epoch 18: val_acc did not improve from 0.39583\n",
            "63/63 [==============================] - 22s 349ms/step - loss: 1.4411 - acc: 0.3431 - val_loss: 1.4451 - val_acc: 0.3354\n",
            "Epoch 19/100\n",
            "63/63 [==============================] - ETA: 0s - loss: 1.4380 - acc: 0.3466\n",
            "Epoch 19: val_acc did not improve from 0.39583\n",
            "63/63 [==============================] - 22s 352ms/step - loss: 1.4380 - acc: 0.3466 - val_loss: 1.4185 - val_acc: 0.3708\n",
            "Epoch 20/100\n",
            "63/63 [==============================] - ETA: 0s - loss: 1.4299 - acc: 0.3410\n",
            "Epoch 20: val_acc did not improve from 0.39583\n",
            "63/63 [==============================] - 22s 350ms/step - loss: 1.4299 - acc: 0.3410 - val_loss: 1.4165 - val_acc: 0.3438\n",
            "Epoch 21/100\n",
            "63/63 [==============================] - ETA: 0s - loss: 1.4222 - acc: 0.3506\n",
            "Epoch 21: val_acc did not improve from 0.39583\n",
            "63/63 [==============================] - 22s 347ms/step - loss: 1.4222 - acc: 0.3506 - val_loss: 1.4284 - val_acc: 0.3396\n",
            "Epoch 22/100\n",
            "63/63 [==============================] - ETA: 0s - loss: 1.4182 - acc: 0.3551\n",
            "Epoch 22: val_acc did not improve from 0.39583\n",
            "63/63 [==============================] - 22s 352ms/step - loss: 1.4182 - acc: 0.3551 - val_loss: 1.4167 - val_acc: 0.3521\n",
            "Epoch 23/100\n",
            "63/63 [==============================] - ETA: 0s - loss: 1.4102 - acc: 0.3727\n",
            "Epoch 23: val_acc did not improve from 0.39583\n",
            "63/63 [==============================] - 23s 369ms/step - loss: 1.4102 - acc: 0.3727 - val_loss: 1.4132 - val_acc: 0.3396\n",
            "Epoch 24/100\n",
            "63/63 [==============================] - ETA: 0s - loss: 1.4254 - acc: 0.3551\n",
            "Epoch 24: val_acc did not improve from 0.39583\n",
            "63/63 [==============================] - 22s 351ms/step - loss: 1.4254 - acc: 0.3551 - val_loss: 1.4274 - val_acc: 0.3354\n",
            "Epoch 25/100\n",
            "63/63 [==============================] - ETA: 0s - loss: 1.4286 - acc: 0.3431\n",
            "Epoch 25: val_acc did not improve from 0.39583\n",
            "63/63 [==============================] - 22s 349ms/step - loss: 1.4286 - acc: 0.3431 - val_loss: 1.4311 - val_acc: 0.3438\n",
            "Epoch 26/100\n",
            "63/63 [==============================] - ETA: 0s - loss: 1.4307 - acc: 0.3446\n",
            "Epoch 26: val_acc did not improve from 0.39583\n",
            "63/63 [==============================] - 22s 352ms/step - loss: 1.4307 - acc: 0.3446 - val_loss: 1.4203 - val_acc: 0.3438\n",
            "Epoch 27/100\n",
            "63/63 [==============================] - ETA: 0s - loss: 1.4113 - acc: 0.3511\n",
            "Epoch 27: val_acc did not improve from 0.39583\n",
            "63/63 [==============================] - 22s 352ms/step - loss: 1.4113 - acc: 0.3511 - val_loss: 1.4057 - val_acc: 0.3479\n",
            "Epoch 28/100\n",
            "63/63 [==============================] - ETA: 0s - loss: 1.4227 - acc: 0.3486\n",
            "Epoch 28: val_acc did not improve from 0.39583\n",
            "63/63 [==============================] - 22s 352ms/step - loss: 1.4227 - acc: 0.3486 - val_loss: 1.4367 - val_acc: 0.3458\n",
            "Epoch 29/100\n",
            "63/63 [==============================] - ETA: 0s - loss: 1.4196 - acc: 0.3501\n",
            "Epoch 29: val_acc did not improve from 0.39583\n",
            "63/63 [==============================] - 22s 352ms/step - loss: 1.4196 - acc: 0.3501 - val_loss: 1.4233 - val_acc: 0.3375\n",
            "Epoch 30/100\n",
            "63/63 [==============================] - ETA: 0s - loss: 1.4167 - acc: 0.3451\n",
            "Epoch 30: val_acc did not improve from 0.39583\n",
            "63/63 [==============================] - 22s 350ms/step - loss: 1.4167 - acc: 0.3451 - val_loss: 1.4363 - val_acc: 0.3250\n",
            "Epoch 31/100\n",
            "63/63 [==============================] - ETA: 0s - loss: 1.4161 - acc: 0.3436\n",
            "Epoch 31: val_acc did not improve from 0.39583\n",
            "63/63 [==============================] - 22s 351ms/step - loss: 1.4161 - acc: 0.3436 - val_loss: 1.4153 - val_acc: 0.3625\n",
            "Epoch 32/100\n",
            "63/63 [==============================] - ETA: 0s - loss: 1.4158 - acc: 0.3531\n",
            "Epoch 32: val_acc did not improve from 0.39583\n",
            "63/63 [==============================] - 22s 350ms/step - loss: 1.4158 - acc: 0.3531 - val_loss: 1.4257 - val_acc: 0.3583\n",
            "Epoch 33/100\n",
            "63/63 [==============================] - ETA: 0s - loss: 1.4182 - acc: 0.3516\n",
            "Epoch 33: val_acc did not improve from 0.39583\n",
            "63/63 [==============================] - 22s 353ms/step - loss: 1.4182 - acc: 0.3516 - val_loss: 1.4277 - val_acc: 0.3375\n",
            "Epoch 34/100\n",
            "63/63 [==============================] - ETA: 0s - loss: 1.4100 - acc: 0.3521\n",
            "Epoch 34: val_acc did not improve from 0.39583\n",
            "63/63 [==============================] - 23s 373ms/step - loss: 1.4100 - acc: 0.3521 - val_loss: 1.4170 - val_acc: 0.3458\n",
            "Epoch 35/100\n",
            "63/63 [==============================] - ETA: 0s - loss: 1.4090 - acc: 0.3551\n",
            "Epoch 35: val_acc did not improve from 0.39583\n",
            "63/63 [==============================] - 22s 354ms/step - loss: 1.4090 - acc: 0.3551 - val_loss: 1.4070 - val_acc: 0.3646\n"
          ]
        }
      ]
    },
    {
      "cell_type": "code",
      "source": [
        "import matplotlib.pyplot as plt\n",
        "\n",
        "# Plot the model results\n",
        "acc = history.history['acc']\n",
        "val_acc = history.history['val_acc']\n",
        "loss = history.history['loss']\n",
        "val_loss = history.history['val_loss']\n",
        "\n",
        "epochs = range(len(acc))\n",
        "\n",
        "plt.plot(epochs, acc, 'r', label='Training accuracy')\n",
        "plt.plot(epochs, val_acc, 'b', label='Validation accuracy')\n",
        "plt.title('Training and validation accuracy')\n",
        "\n",
        "plt.figure()\n",
        "\n",
        "plt.plot(epochs, loss, 'r', label='Training Loss')\n",
        "plt.plot(epochs, val_loss, 'b', label='Validation Loss')\n",
        "plt.title('Training and validation loss')\n",
        "plt.legend()\n",
        "\n",
        "plt.show()"
      ],
      "metadata": {
        "colab": {
          "base_uri": "https://localhost:8080/",
          "height": 545
        },
        "id": "vf_41-UZ7zE3",
        "outputId": "6992a152-e6e8-441a-ee48-3412113c8731"
      },
      "execution_count": 17,
      "outputs": [
        {
          "output_type": "display_data",
          "data": {
            "text/plain": [
              "<Figure size 432x288 with 1 Axes>"
            ],
            "image/png": "[encoded data removed]"
          },
          "metadata": {
            "needs_background": "light"
          }
        },
        {
          "output_type": "display_data",
          "data": {
            "text/plain": [
              "<Figure size 432x288 with 1 Axes>"
            ],
            "image/png": "[encoded data removed]"
          },
          "metadata": {
            "needs_background": "light"
          }
        }
      ]
    }
  ]
}